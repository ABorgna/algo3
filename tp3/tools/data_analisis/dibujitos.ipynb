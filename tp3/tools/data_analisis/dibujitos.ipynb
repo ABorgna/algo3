{
  "cells": [
    {
      "cell_type": "markdown",
      "metadata": {
        "collapsed": true
      },
      "source": [
        "## Grafiquitos"
      ]
    },
    {
      "cell_type": "code",
      "metadata": {
        "collapsed": true
      },
      "outputs": [],
      "source": [
        "import glob\n",
        "import matplotlib.pyplot as plt\n",
        "import numpy as np\n",
        "import os.path\n",
        "import pandas as pd\n",
        "import pylab\n",
        "import re\n",
        "import seaborn as sns\n",
        "import statsmodels\n",
        "from matplotlib.colors import LogNorm"
      ]
    },
    {
      "cell_type": "code",
      "metadata": {
        "collapsed": true
      },
      "outputs": [],
      "source": [
        "BENCH_DIR = '../../bench/'\n",
        "GRAPH_DIR = '../../graph/'\n",
        "\n",
        "CSV_COLUMNS = [\"gyms\",\"stops\",\"bagSize\",\"time\",\"reps\",\"status\",\n",
        "               \"generator\",\"result\",\"algorithm\",\"subtype\",\"seed1\",\"seed2\"]"
      ]
    },
    {
      "cell_type": "markdown",
      "metadata": {},
      "source": [
        "Configuraci\u00f3n de matplotlib"
      ]
    },
    {
      "cell_type": "code",
      "metadata": {
        "collapsed": false
      },
      "outputs": [],
      "source": [
        "def plt_setlegend(ax, legend=None, loc='best'):\n",
        "    if legend is not None:\n",
        "        l = ax.legend(legend, loc=loc, frameon=True, borderpad=0.5)\n",
        "    else:\n",
        "        l = ax.legend(loc=loc, frameon=True, borderpad=0.5)\n",
        "    l.get_frame().set_linewidth(1)"
      ]
    },
    {
      "cell_type": "markdown",
      "metadata": {},
      "source": [
        "### Leemos los benchmarks\n",
        "Separamos los de time de los de result, ya que los \u00faltimos se corren una sola vez y pueden tener mucho ruido"
      ]
    },
    {
      "cell_type": "code",
      "metadata": {
        "collapsed": false
      },
      "outputs": [],
      "source": [
        "def readDf(wildcard):\n",
        "    files = glob.glob(os.path.join(BENCH_DIR, wildcard))\n",
        "    dfs = (pd.read_csv(f, names=CSV_COLUMNS, header=None) for f in files)\n",
        "    df = pd.concat(dfs, ignore_index=True)\n",
        "    df[\"time\"] = df[\"time\"] / 1e9\n",
        "    df[\"nodes\"] = df[\"gyms\"] + df[\"stops\"]\n",
        "    df[\"n^2\"] = df[\"nodes\"]**2\n",
        "    df[\"n^3\"] = df[\"nodes\"]**3\n",
        "    df[\"n^4\"] = df[\"nodes\"]**4\n",
        "    df[\"n^5\"] = df[\"nodes\"]**5\n",
        "    df[\"n^6\"] = df[\"nodes\"]**6\n",
        "    return df\n",
        "\n",
        "df_time = readDf(\"*-time-*\")\n",
        "df_time_moch = readDf(\"*-timemoch-*\")\n",
        "df_result = readDf(\"*-result-*\")\n",
        "df_grasp_var = readDf(\"grasp-variables\")"
      ]
    },
    {
      "cell_type": "markdown",
      "metadata": {},
      "source": [
        "### Datos de las mediciones"
      ]
    },
    {
      "cell_type": "code",
      "metadata": {
        "collapsed": false
      },
      "outputs": [],
      "source": [
        "df_time[[\"algorithm\",\"subtype\"]].drop_duplicates()"
      ]
    },
    {
      "cell_type": "code",
      "metadata": {
        "collapsed": false
      },
      "outputs": [],
      "source": [
        "df_time.describe()"
      ]
    },
    {
      "cell_type": "code",
      "metadata": {
        "collapsed": false
      },
      "outputs": [],
      "source": [
        "df_result.describe()"
      ]
    },
    {
      "cell_type": "markdown",
      "metadata": {},
      "source": [
        "## Graficos de tiempo"
      ]
    },
    {
      "cell_type": "code",
      "metadata": {
        "collapsed": false
      },
      "outputs": [],
      "source": [
        "t_is_exacto = df_time[\"algorithm\"] == 'exacto'\n",
        "t_is_greedy = df_time[\"algorithm\"] == 'greedy'\n",
        "t_is_local = df_time[\"algorithm\"] == 'local'\n",
        "t_is_grasp = df_time[\"algorithm\"] == 'grasp'\n",
        "\n",
        "t_is_bruteforce = df_time[\"subtype\"] == 'none'\n",
        "t_is_backtracking = df_time[\"subtype\"] == 'backtracking'\n",
        "t_is_closest = df_time[\"subtype\"] == 'closest'\n",
        "t_is_furthest = df_time[\"subtype\"] == 'furthest'\n",
        "t_is_2opt = df_time[\"subtype\"] == 'dos_opt'\n",
        "t_is_swap = df_time[\"subtype\"] == 'swap'\n",
        "t_is_swap_min = df_time[\"subtype\"] == 'swap_min'\n",
        "\n",
        "\n",
        "t_is_not_inf = df_time[\"result\"] != np.inf\n",
        "\n",
        "tm_is_exacto = df_time_moch[\"algorithm\"] == 'exacto'\n",
        "tm_is_greedy = df_time_moch[\"algorithm\"] == 'greedy'\n",
        "tm_is_local = df_time_moch[\"algorithm\"] == 'local'\n",
        "tm_is_grasp = df_time_moch[\"algorithm\"] == 'grasp'\n",
        "\n",
        "tm_is_bruteforce = df_time_moch[\"subtype\"] == 'none'\n",
        "tm_is_backtracking = df_time_moch[\"subtype\"] == 'backtracking'\n",
        "tm_is_closest = df_time_moch[\"subtype\"] == 'closest'\n",
        "tm_is_furthest = df_time_moch[\"subtype\"] == 'furthest'\n",
        "tm_is_2opt = df_time_moch[\"subtype\"] == 'dos_opt'\n",
        "tm_is_swap = df_time_moch[\"subtype\"] == 'swap'\n",
        "\n",
        "tm_is_not_inf = df_time_moch[\"result\"] != np.inf"
      ]
    },
    {
      "cell_type": "markdown",
      "metadata": {},
      "source": [
        "### Algoritmos exactos"
      ]
    },
    {
      "cell_type": "code",
      "metadata": {
        "collapsed": false
      },
      "outputs": [],
      "source": [
        "plt.clf()\n",
        "axis1 = plt.subplot(1,2,1)\n",
        "plt.ylabel('Tiempo en segundos')\n",
        "axis2 = plt.subplot(1,2,2)\n",
        "plt.ylabel('Tiempo en segundos')\n",
        "\n",
        "df_time[t_is_exacto & t_is_bruteforce].plot(\n",
        "    x=\"nodes\", y=\"time\", ax=axis1,\n",
        "    label=\"fuerza bruta\", style='o')\n",
        "\n",
        "df_time[t_is_exacto & t_is_backtracking].plot(\n",
        "    x=\"nodes\", y=\"time\", ax=axis2,\n",
        "    label=\"backtracking\", style='go')\n",
        "\n",
        "# Seteamos la misma escala para ambos\n",
        "axis1.set_yscale('log')\n",
        "axis2.set_yscale('log')\n",
        "_,_,y1l,y1h = axis1.axis()\n",
        "_,_,y2l,y2h = axis2.axis()\n",
        "#axis1.set_ylim(min(y1l,y2l),max(y1h,y2h))\n",
        "axis2.set_ylim(min(y1l,y2l),max(y1h,y2h))\n",
        "\n",
        "plt.suptitle(\"Runtime de los algoritmos exactos, con mochilas 'infinitas'\")\n",
        "plt_setlegend(axis1)\n",
        "plt_setlegend(axis2)\n",
        "plt.savefig(GRAPH_DIR + 'time-exacto.png')\n",
        "plt.show()"
      ]
    },
    {
      "cell_type": "code",
      "metadata": {
        "collapsed": false
      },
      "outputs": [],
      "source": [
        "df_time_moch[tm_is_exacto & tm_is_backtracking][\"time\"].describe()"
      ]
    },
    {
      "cell_type": "code",
      "metadata": {
        "collapsed": false
      },
      "outputs": [],
      "source": [
        "plt.clf()\n",
        "axis1 = plt.subplot(1,2,1)\n",
        "plt.ylabel('Tiempo en segundos')\n",
        "axis2 = plt.subplot(1,2,2)\n",
        "plt.ylabel('Tiempo en segundos')\n",
        "\n",
        "df_time_moch[tm_is_exacto & tm_is_bruteforce].plot(\n",
        "    x=\"bagSize\", y=\"time\", ax=axis1,\n",
        "    label=\"fuerza bruta\", style='o')\n",
        "\n",
        "df_time_moch[tm_is_exacto & tm_is_backtracking].plot(\n",
        "    x=\"bagSize\", y=\"time\", ax=axis2,\n",
        "    label=\"backtracking\", style='go')\n",
        "\n",
        "axis1.set_xlabel(\"Tama\u00f1o de la mochila\")\n",
        "axis2.set_xlabel(\"Tama\u00f1o de la mochila\")\n",
        "\n",
        "# Seteamos la misma escala para ambos\n",
        "_,_,y1l,y1h = axis1.axis()\n",
        "_,_,y2l,y2h = axis2.axis()\n",
        "axis1.set_ylim(0,max(y1h,y2h))\n",
        "axis2.set_ylim(0,max(y1h,y2h))\n",
        "\n",
        "plt.suptitle(\"Runtime de los algoritmos exactos con 5 gimnasios y 5 paradas\")\n",
        "plt_setlegend(axis1)\n",
        "plt_setlegend(axis2)\n",
        "plt.savefig(GRAPH_DIR + 'time-exacto-moch.png')\n",
        "plt.show()"
      ]
    },
    {
      "cell_type": "markdown",
      "metadata": {},
      "source": [
        "### Heur\u00edsticas greedy"
      ]
    },
    {
      "cell_type": "code",
      "metadata": {
        "collapsed": false
      },
      "outputs": [],
      "source": [
        "plt.clf()\n",
        "axis1 = plt.subplot(1,2,1)\n",
        "plt.ylabel('Tiempo en segundos')\n",
        "axis2 = plt.subplot(1,2,2)\n",
        "plt.ylabel('Tiempo en segundos')\n",
        "\n",
        "df_time[t_is_greedy & t_is_furthest & t_is_not_inf].plot(\n",
        "    x=\"nodes\", y=\"time\", ax=axis1,\n",
        "    label=\"heur\u00edstica greedy, closest first\", style='o')\n",
        "df_time[t_is_greedy & t_is_closest & t_is_not_inf].plot(\n",
        "    x=\"nodes\", y=\"time\", ax=axis2,\n",
        "    label=\"heur\u00edstica greedy, furthest first\", style='go')\n",
        "\n",
        "# Seteamos la misma escala para ambos\n",
        "x1,x2,y1,y2 = axis1.axis()\n",
        "axis2.set_ylim(y1,y2)\n",
        "\n",
        "plt.suptitle(\"Runtime de las heur\u00edsticas greedy, con mochilas 'infinitas'\")\n",
        "plt_setlegend(axis1)\n",
        "plt_setlegend(axis2)\n",
        "plt.savefig(GRAPH_DIR + 'time-greedy.png')\n",
        "plt.show()"
      ]
    },
    {
      "cell_type": "code",
      "metadata": {
        "collapsed": false
      },
      "outputs": [],
      "source": [
        "t_grasp = df_time[t_is_greedy & t_is_not_inf]\n",
        "plt.clf()\n",
        "sns.jointplot(t_grasp['n^2'], t_grasp['time'], kind=\"reg\")\n",
        "plt.savefig(GRAPH_DIR + 'time-greedy-correlation.png')\n",
        "sns.plt.show()"
      ]
    },
    {
      "cell_type": "code",
      "metadata": {
        "collapsed": false
      },
      "outputs": [],
      "source": [
        "plt.clf()\n",
        "axis1 = plt.subplot(1,2,1)\n",
        "plt.ylabel('Tiempo en segundos')\n",
        "axis2 = plt.subplot(1,2,2)\n",
        "plt.ylabel('Tiempo en segundos')\n",
        "\n",
        "df_time_moch[tm_is_greedy & tm_is_closest].plot(\n",
        "    x=\"bagSize\", y=\"time\", ax=axis1,\n",
        "    label=\"greedy closest first\", style='o')\n",
        "\n",
        "df_time_moch[tm_is_greedy & tm_is_furthest].plot(\n",
        "    x=\"bagSize\", y=\"time\", ax=axis2,\n",
        "    label=\"greedy furthest first\", style='go')\n",
        "\n",
        "axis1.set_xlabel(\"Tama\u00f1o de la mochila\")\n",
        "axis2.set_xlabel(\"Tama\u00f1o de la mochila\")\n",
        "\n",
        "# Seteamos la misma escala para ambos\n",
        "_,_,y1l,y1h = axis1.axis()\n",
        "_,_,y2l,y2h = axis2.axis()\n",
        "axis1.set_ylim(0,max(y1h,y2h))\n",
        "axis2.set_ylim(0,max(y1h,y2h))\n",
        "\n",
        "plt.suptitle(\"Runtime de las heur\u00edsticas greedy con 5 gimnasios y 5 paradas\")\n",
        "plt_setlegend(axis1)\n",
        "plt_setlegend(axis2)\n",
        "plt.savefig(GRAPH_DIR + 'time-greedy-moch.png')\n",
        "plt.show()"
      ]
    },
    {
      "cell_type": "code",
      "metadata": {
        "collapsed": false
      },
      "outputs": [],
      "source": [
        "df_time_moch[tm_is_greedy][[\"time\",\"bagSize\"]].corr()"
      ]
    },
    {
      "cell_type": "code",
      "metadata": {
        "collapsed": false
      },
      "outputs": [],
      "source": [
        "df_time_moch[tm_is_greedy & tm_is_closest][\"time\"].describe()"
      ]
    },
    {
      "cell_type": "markdown",
      "metadata": {},
      "source": [
        "### Heur\u00edsticas locales"
      ]
    },
    {
      "cell_type": "markdown",
      "metadata": {},
      "source": [
        "#### 2opt vs swap"
      ]
    },
    {
      "cell_type": "code",
      "metadata": {
        "collapsed": false
      },
      "outputs": [],
      "source": [
        "plt.clf()\n",
        "axis1 = plt.subplot(1,2,1)\n",
        "plt.ylabel('Tiempo en segundos')\n",
        "axis2 = plt.subplot(1,2,2)\n",
        "plt.ylabel('Tiempo en segundos')\n",
        "\n",
        "ax = df_time[t_is_local & t_is_swap & t_is_not_inf].plot(\n",
        "    x=\"nodes\", y=\"time\", ax=axis1,\n",
        "    label=\"heur\u00edstica local, swap\", style='o')\n",
        "ax = df_time[t_is_local & t_is_2opt & t_is_not_inf].plot(\n",
        "    x=\"nodes\", y=\"time\", ax=axis2,\n",
        "    label=\"heur\u00edstica local, 2opt\", style='go')\n",
        "\n",
        "# Seteamos la misma escala para ambos\n",
        "x1,x2,y1,y2 = axis1.axis()\n",
        "axis2.set_ylim(y1,y2)\n",
        "\n",
        "plt.suptitle(\"Runtime de las heur\u00edsticas locales, con mochilas 'infinitas'\")\n",
        "plt_setlegend(axis1)\n",
        "plt_setlegend(axis2)\n",
        "plt.savefig(GRAPH_DIR + 'time-local.png')\n",
        "plt.show()"
      ]
    },
    {
      "cell_type": "code",
      "metadata": {
        "collapsed": false
      },
      "outputs": [],
      "source": [
        "sns.plt.clf()\n",
        "jp1 = sns.jointplot('n^4', 'time',\n",
        "              data=df_time[t_is_local & t_is_2opt & t_is_not_inf],\n",
        "              kind=\"reg\")\n",
        "jp2 = sns.jointplot('n^4', 'time',\n",
        "              data=df_time[t_is_local & t_is_swap & t_is_not_inf],\n",
        "              kind=\"reg\")\n",
        "\n",
        "f = plt.figure()\n",
        "\n",
        "#subplots migration\n",
        "f = plt.figure()\n",
        "for j in [jp1, jp2]:\n",
        "    for a in j.fig.axes:\n",
        "        f._axstack.add(f._make_key(a), a)\n",
        "\n",
        "#subplots size adjustment\n",
        "f.axes[0].set_position([0.05, 0.05, 0.4,  0.4])\n",
        "f.axes[1].set_position([0.05, 0.47, 0.4,  0.05])\n",
        "f.axes[2].set_position([0.47, 0.05, 0.05, 0.4])\n",
        "\n",
        "f.axes[3].set_position([0.65, 0.05, 0.4,  0.4])\n",
        "f.axes[4].set_position([0.65, 0.47, 0.4,  0.05])\n",
        "f.axes[5].set_position([1.07, 0.05, 0.05, 0.4])\n",
        "\n",
        "plt.savefig(GRAPH_DIR + 'time-local-correlation.png',\n",
        "            bbox_inches='tight', pad_inches=0)\n",
        "sns.plt.show()"
      ]
    },
    {
      "cell_type": "code",
      "metadata": {
        "collapsed": false
      },
      "outputs": [],
      "source": [
        "plt.clf()\n",
        "axis1 = plt.subplot(1,2,1)\n",
        "plt.ylabel('Tiempo en segundos')\n",
        "axis2 = plt.subplot(1,2,2)\n",
        "plt.ylabel('Tiempo en segundos')\n",
        "\n",
        "df_time_moch[tm_is_local & tm_is_swap].plot(\n",
        "    x=\"bagSize\", y=\"time\", ax=axis1,\n",
        "    label=\"local swap\", style='o')\n",
        "\n",
        "df_time_moch[tm_is_local & tm_is_2opt].plot(\n",
        "    x=\"bagSize\", y=\"time\", ax=axis2,\n",
        "    label=\"local 2opt\", style='go')\n",
        "\n",
        "axis1.set_xlabel(\"Tama\u00f1o de la mochila\")\n",
        "axis2.set_xlabel(\"Tama\u00f1o de la mochila\")\n",
        "\n",
        "# Seteamos la misma escala para ambos\n",
        "_,_,y1l,y1h = axis1.axis()\n",
        "_,_,y2l,y2h = axis2.axis()\n",
        "axis1.set_ylim(0,max(y1h,y2h))\n",
        "axis2.set_ylim(0,max(y1h,y2h))\n",
        "\n",
        "plt.suptitle(\"Runtime de las heur\u00edsticas locales con 5 gimnasios y 5 paradas\")\n",
        "plt_setlegend(axis1)\n",
        "plt_setlegend(axis2)\n",
        "plt.savefig(GRAPH_DIR + 'time-local-moch.png')\n",
        "plt.show()"
      ]
    },
    {
      "cell_type": "code",
      "metadata": {
        "collapsed": false
      },
      "outputs": [],
      "source": [
        "df_time_moch[tm_is_local & tm_is_swap][[\"time\",\"bagSize\"]].corr()"
      ]
    },
    {
      "cell_type": "code",
      "metadata": {
        "collapsed": false
      },
      "outputs": [],
      "source": [
        "df_time_moch[tm_is_local & tm_is_2opt][[\"time\",\"bagSize\"]].corr()"
      ]
    },
    {
      "cell_type": "code",
      "metadata": {
        "collapsed": false
      },
      "outputs": [],
      "source": [
        "df_time[t_is_local & t_is_swap].describe()"
      ]
    },
    {
      "cell_type": "code",
      "metadata": {
        "collapsed": false
      },
      "outputs": [],
      "source": [
        "df_time[t_is_local & t_is_2opt].describe()"
      ]
    },
    {
      "cell_type": "code",
      "metadata": {
        "collapsed": false
      },
      "outputs": [],
      "source": [
        "df_time_moch[tm_is_local & tm_is_2opt & tm_is_not_inf][\"time\"].describe()"
      ]
    },
    {
      "cell_type": "markdown",
      "metadata": {},
      "source": [
        "#### swap_min vs swap"
      ]
    },
    {
      "cell_type": "code",
      "metadata": {
        "collapsed": false
      },
      "outputs": [],
      "source": [
        "df_time[t_is_local & t_is_swap_min & t_is_not_inf].describe()"
      ]
    },
    {
      "cell_type": "code",
      "metadata": {
        "collapsed": false
      },
      "outputs": [],
      "source": [
        "plt.clf()\n",
        "fig, ax = plt.subplots()\n",
        "plt.ylabel('Tiempo en segundos')\n",
        "\n",
        "ax = df_time[t_is_local & t_is_swap_min & t_is_not_inf].plot(\n",
        "    x=\"nodes\", y=\"time\", ax=ax,\n",
        "    label=\"swap_min\", style='go')\n",
        "\n",
        "plt.title(\"Runtime de las dos b\u00fasquedas por swap, con mochilas 'infinitas'\")\n",
        "plt_setlegend(ax)\n",
        "plt.savefig(GRAPH_DIR + 'time-local-swap_min.png')\n",
        "plt.show()"
      ]
    },
    {
      "cell_type": "code",
      "metadata": {
        "collapsed": false
      },
      "outputs": [],
      "source": [
        "plt.clf()\n",
        "sns.jointplot('n^5', 'time',\n",
        "              data=df_time[t_is_local & t_is_swap_min & t_is_not_inf],\n",
        "              kind=\"reg\")\n",
        "plt.savefig(GRAPH_DIR + 'time-local-swap_min-correlation.png')\n",
        "sns.plt.show()"
      ]
    },
    {
      "cell_type": "markdown",
      "metadata": {},
      "source": [
        "### GRASP"
      ]
    },
    {
      "cell_type": "code",
      "metadata": {
        "collapsed": false
      },
      "outputs": [],
      "source": [
        "plt.clf()\n",
        "fig, ax = plt.subplots()\n",
        "\n",
        "ax = df_time[t_is_grasp & t_is_not_inf].plot(x=\"nodes\", y=\"time\", ax=ax,\n",
        "                            label=\"heur\u00edstica grasp\", style='o')\n",
        "plt.ylabel('Tiempo en segundos')\n",
        "plt.title(\"Runtime de la metaheur\u00edstica GRASP, con mochilas 'infinitas'\")\n",
        "plt_setlegend(ax)\n",
        "plt.savefig(GRAPH_DIR + 'time-grasp.png')\n",
        "plt.show()"
      ]
    },
    {
      "cell_type": "code",
      "metadata": {
        "collapsed": false
      },
      "outputs": [],
      "source": [
        "t_grasp = df_time[t_is_grasp & t_is_not_inf]\n",
        "plt.clf()\n",
        "sns.jointplot(t_grasp['n^5'], t_grasp['time'], kind=\"reg\")\n",
        "plt.savefig(GRAPH_DIR + 'time-grasp-correlation.png')\n",
        "sns.plt.show()"
      ]
    },
    {
      "cell_type": "code",
      "metadata": {
        "collapsed": false
      },
      "outputs": [],
      "source": [
        "df_time_moch[tm_is_grasp].describe()"
      ]
    },
    {
      "cell_type": "code",
      "metadata": {
        "collapsed": false
      },
      "outputs": [],
      "source": [
        "plt.clf()\n",
        "fig, ax = plt.subplots()\n",
        "\n",
        "df_time_moch[tm_is_grasp].plot(\n",
        "    x=\"bagSize\", y=\"time\", ax=ax,\n",
        "    label=\"grasp\", style='o')\n",
        "\n",
        "ax.set_xlabel(\"Tama\u00f1o de la mochila\")\n",
        "\n",
        "plt.title(\"Runtime de la metaheur\u00edstica GRASP con 20 gimnasios y 20 paradas\")\n",
        "plt_setlegend(ax)\n",
        "plt.savefig(GRAPH_DIR + 'time-grasp-moch.png')\n",
        "plt.show()"
      ]
    },
    {
      "cell_type": "code",
      "metadata": {
        "collapsed": false
      },
      "outputs": [],
      "source": [
        "df_time_moch[tm_is_grasp][[\"time\",\"bagSize\"]].corr()"
      ]
    },
    {
      "cell_type": "code",
      "metadata": {
        "collapsed": false
      },
      "outputs": [],
      "source": [
        "df_time_moch[tm_is_grasp][\"time\"].describe()"
      ]
    },
    {
      "cell_type": "markdown",
      "metadata": {},
      "source": [
        "## Graficos de precisi\u00f3n"
      ]
    },
    {
      "cell_type": "markdown",
      "metadata": {},
      "source": [
        "#### Cosas utiles"
      ]
    },
    {
      "cell_type": "code",
      "metadata": {
        "collapsed": true
      },
      "outputs": [],
      "source": [
        "class LogFormatterTeXExponent(pylab.LogFormatter, object):\n",
        "    \"\"\"Extends pylab.LogFormatter to use \n",
        "    tex notation for tick labels.\"\"\"\n",
        "    \n",
        "    def __init__(self, *args, **kwargs):\n",
        "        super(LogFormatterTeXExponent, \n",
        "              self).__init__(*args, **kwargs)\n",
        "        \n",
        "    def __call__(self, *args, **kwargs):\n",
        "        \"\"\"Wrap call to parent class with \n",
        "        change to tex notation.\"\"\"\n",
        "        label = super(LogFormatterTeXExponent, \n",
        "                      self).__call__(*args, **kwargs)\n",
        "        label = re.sub(r'e(\\S)0?(\\d+)', \n",
        "                       r'\\\\times aoe 10^{\\1\\2}', \n",
        "                       str(label))\n",
        "        label = \"$\" + label + \"$\"\n",
        "        return label\n",
        "    \n",
        "def setLogY(ax):\n",
        "    plt.yscale('log')\n",
        "    ax.yaxis.set_minor_formatter(\n",
        "        LogFormatterTeXExponent(labelOnlyBase=False))\n",
        "    "
      ]
    },
    {
      "cell_type": "markdown",
      "metadata": {},
      "source": [
        "### En funcion del exacto"
      ]
    },
    {
      "cell_type": "code",
      "metadata": {
        "collapsed": true
      },
      "outputs": [],
      "source": [
        "is_exacto = df_result[\"algorithm\"] == 'exacto'\n",
        "is_greedy = df_result[\"algorithm\"] == 'greedy'\n",
        "is_local = df_result[\"algorithm\"] == 'local'\n",
        "is_grasp = df_result[\"algorithm\"] == 'grasp'\n",
        "\n",
        "is_closest = df_result[\"subtype\"] == 'closest'\n",
        "is_furthest = df_result[\"subtype\"] == 'furthest'\n",
        "is_2opt = df_result[\"subtype\"] == 'dos_opt'\n",
        "is_swap = df_result[\"subtype\"] == 'swap'\n",
        "\n",
        "merge_cols = [\"gyms\",\"stops\",\"nodes\",\"bagSize\",\"generator\",\"seed1\",\"seed2\"]\n",
        "columns = merge_cols + [\"result\"]\n",
        "ext_columns = columns + [\"algorithm\", \"subtype\"]\n",
        "\n",
        "small_exacto = df_result[is_exacto][columns]\n",
        "small_exacto = small_exacto[small_exacto[\"result\"] != np.inf]\n",
        "small_exacto.rename(columns={\"result\": \"result_exacto\"}, inplace=True)\n",
        "\n",
        "def getPrecision(data_filter, name):\n",
        "    tmp = pd.merge(df_result[data_filter][ext_columns],\n",
        "                           small_exacto, on=merge_cols)\n",
        "    tmp = tmp[tmp[\"result\"] != np.inf]\n",
        "    tmp[\"precision\"] = tmp[\"result\"] / tmp[\"result_exacto\"]\n",
        "    tmp[\"name\"] = name\n",
        "    \n",
        "    # Agregamos el tama\u00f1o relativo de la medida\n",
        "    def tamRelativo(row, string=True):\n",
        "        s = row['stops']\n",
        "        t = row['bagSize']\n",
        "        if not string:\n",
        "            return t/s\n",
        "        if t == s * 3:\n",
        "            return 'mochila * 3'\n",
        "        if t == s * 2:\n",
        "            return 'mochila * 2'\n",
        "        if t == s:\n",
        "            return 'mochila'\n",
        "        if t == s/2:\n",
        "            return 'mochila / 2'\n",
        "        if t == 3:\n",
        "            return 'size 3'\n",
        "        return ''\n",
        "    tmp[\"sizeBag relativo num\"] = tmp.apply(\n",
        "        lambda row: tamRelativo(row, string=False), axis=1)\n",
        "    tmp[\"sizeBag relativo\"] = tmp.apply(tamRelativo, axis=1)\n",
        "    tmp.sort_values(['generator','sizeBag relativo num'], inplace=True)\n",
        "    return tmp\n",
        "\n",
        "prec_greedy_closest = getPrecision(is_greedy & is_closest, 'greedy closest first')\n",
        "prec_greedy_furthest = getPrecision(is_greedy & is_furthest, 'greedy furthest first')\n",
        "prec_local_2opt = getPrecision(is_local & is_2opt, 'local, 2opt')\n",
        "prec_local_swap = getPrecision(is_local & is_swap, 'local, swap')\n",
        "prec_grasp = getPrecision(is_grasp, 'grasp')\n",
        "\n",
        "prec_all = prec_greedy_closest.append(prec_greedy_furthest\n",
        "                             ).append(prec_local_2opt).append(prec_local_swap\n",
        "                             ).append(prec_grasp)\n",
        "\n",
        "prec_is_random = prec_all['generator'] == 'random'"
      ]
    },
    {
      "cell_type": "code",
      "metadata": {
        "collapsed": false
      },
      "outputs": [],
      "source": [
        "plt.clf()\n",
        "fig, ax = plt.subplots()\n",
        "setLogY(ax)\n",
        "\n",
        "sns.boxplot(x='name', y='precision',\n",
        "            data=prec_all[prec_is_random])\n",
        "plt.savefig(GRAPH_DIR + 'precision-small-all.png')\n",
        "plt.show()"
      ]
    },
    {
      "cell_type": "code",
      "metadata": {
        "collapsed": false
      },
      "outputs": [],
      "source": [
        "plt.clf()\n",
        "fig, ax = plt.subplots()\n",
        "setLogY(ax)\n",
        "\n",
        "sns.boxplot(x='name', y='precision', hue='generator',\n",
        "            data=prec_all)\n",
        "plt.savefig(GRAPH_DIR + 'precision-small-all-bygen.png')\n",
        "plt.show()"
      ]
    },
    {
      "cell_type": "code",
      "metadata": {
        "collapsed": false
      },
      "outputs": [],
      "source": [
        "plt.clf()\n",
        "fig, ax = plt.subplots()\n",
        "setLogY(ax)\n",
        "\n",
        "sns.boxplot(x='name', y='precision', hue='sizeBag relativo', data=prec_all)\n",
        "plt.savefig(GRAPH_DIR + 'precision-small-all-bysize.png')\n",
        "plt.show()"
      ]
    },
    {
      "cell_type": "code",
      "metadata": {
        "collapsed": false
      },
      "outputs": [],
      "source": [
        "prec_grasp[prec_grasp['generator'] == 'random'][\"precision\"].describe()"
      ]
    },
    {
      "cell_type": "code",
      "metadata": {
        "collapsed": false
      },
      "outputs": [],
      "source": [
        "len(prec_grasp[prec_grasp[\"precision\"] == 1]) / len(prec_grasp)"
      ]
    },
    {
      "cell_type": "markdown",
      "metadata": {},
      "source": [
        "### En funcion del m\u00ednimo entre las her\u00edsticas"
      ]
    },
    {
      "cell_type": "code",
      "metadata": {
        "collapsed": false
      },
      "outputs": [],
      "source": [
        "merge_cols = [\"gyms\",\"stops\",\"nodes\",\"bagSize\",\"generator\",\"seed1\",\"seed2\"]\n",
        "columns = merge_cols + [\"result\"]\n",
        "min_columns = merge_cols + [\"min_result\"]\n",
        "ext_columns = columns + [\"algorithm\", \"subtype\"]\n",
        "\n",
        "minResult = df_result[is_grasp].rename(columns={\"result\": \"min_result\"})\n",
        "minResult = minResult[min_columns]\n",
        "minResult = minResult[minResult[\"min_result\"] != np.inf]\n",
        "\n",
        "def mergeMinimums(data_filter):\n",
        "    global minResult\n",
        "    minResult = pd.merge(df_result[data_filter][columns], minResult, on=merge_cols)\n",
        "    minResult['min_result'] = minResult.loc[:, ['result', 'min_result']].min(axis=1)\n",
        "    minResult = minResult[min_columns]\n",
        "\n",
        "mergeMinimums(is_greedy & is_closest)\n",
        "mergeMinimums(is_greedy & is_furthest)\n",
        "mergeMinimums(is_local & is_2opt)\n",
        "mergeMinimums(is_local & is_swap)\n",
        "\n",
        "def getPrecision(data_filter, name):\n",
        "    tmp = pd.merge(df_result[data_filter][ext_columns], minResult, on=merge_cols)\n",
        "    tmp = tmp[tmp[\"result\"] != np.inf]\n",
        "    tmp[\"precision\"] = tmp[\"result\"] / tmp[\"min_result\"]\n",
        "    tmp[\"name\"] = name\n",
        "    \n",
        "    # Agregamos el tama\u00f1o relativo de la medida\n",
        "    def tamRelativo(row, string=True):\n",
        "        s = row['stops']\n",
        "        t = row['bagSize']\n",
        "        if not string:\n",
        "            return t/s\n",
        "        if t == s * 3:\n",
        "            return 'mochila * 3'\n",
        "        if t == s * 2:\n",
        "            return 'mochila * 2'\n",
        "        if t == s:\n",
        "            return 'mochila'\n",
        "        if t == s/2:\n",
        "            return 'mochila / 2'\n",
        "        if t == 3:\n",
        "            return 'size 3'\n",
        "        return ''\n",
        "    tmp[\"sizeBag relativo num\"] = tmp.apply(\n",
        "        lambda row: tamRelativo(row, string=False), axis=1)\n",
        "    tmp[\"sizeBag relativo\"] = tmp.apply(tamRelativo, axis=1)\n",
        "    tmp.sort_values(['generator','sizeBag relativo num'], inplace=True)\n",
        "    \n",
        "    return tmp\n",
        "\n",
        "b_prec_greedy_closest = getPrecision(is_greedy & is_closest, 'greedy closest first')\n",
        "b_prec_greedy_furthest = getPrecision(is_greedy & is_furthest, 'greedy furthest first')\n",
        "b_prec_local_2opt = getPrecision(is_local & is_2opt, 'local, 2opt')\n",
        "b_prec_local_swap = getPrecision(is_local & is_swap, 'local, swap')\n",
        "b_prec_grasp = getPrecision(is_grasp, 'grasp')\n",
        "\n",
        "b_prec_all = b_prec_greedy_closest.append(b_prec_greedy_furthest\n",
        "                             ).append(b_prec_local_2opt\n",
        "                             ).append(b_prec_local_swap\n",
        "                             ).append(b_prec_grasp)\n",
        "\n",
        "b_prec_is_random = b_prec_all['generator'] == 'random'"
      ]
    },
    {
      "cell_type": "code",
      "metadata": {
        "collapsed": false
      },
      "outputs": [],
      "source": [
        "plt.clf()\n",
        "fig, ax = plt.subplots()\n",
        "setLogY(ax)\n",
        "\n",
        "sns.boxplot(x='name', y='precision', data=b_prec_all[b_prec_is_random], ax=ax)\n",
        "plt.savefig(GRAPH_DIR + 'precision-big-all.png')\n",
        "plt.show()"
      ]
    },
    {
      "cell_type": "code",
      "metadata": {
        "collapsed": false
      },
      "outputs": [],
      "source": [
        "plt.clf()\n",
        "fig, ax = plt.subplots()\n",
        "setLogY(ax)\n",
        "\n",
        "sns.boxplot(x='name', y='precision', hue='generator', data=b_prec_all)\n",
        "plt.savefig(GRAPH_DIR + 'precision-big-all-bygen.png')\n",
        "plt.show()"
      ]
    },
    {
      "cell_type": "code",
      "metadata": {
        "collapsed": false
      },
      "outputs": [],
      "source": [
        "plt.clf()\n",
        "fig, ax = plt.subplots()\n",
        "setLogY(ax)\n",
        "\n",
        "sns.boxplot(x='name', y='precision', hue='sizeBag relativo', data=b_prec_all)\n",
        "plt.savefig(GRAPH_DIR + 'precision-big-all-bysize.png')\n",
        "plt.show()"
      ]
    },
    {
      "cell_type": "code",
      "metadata": {
        "collapsed": false
      },
      "outputs": [],
      "source": [
        "b_prec_grasp[\"precision\"].describe()"
      ]
    },
    {
      "cell_type": "code",
      "metadata": {
        "collapsed": false
      },
      "outputs": [],
      "source": [
        "len(b_prec_grasp[b_prec_grasp[\"precision\"] == 1]) / len(b_prec_grasp)"
      ]
    },
    {
      "cell_type": "code",
      "metadata": {
        "collapsed": false
      },
      "outputs": [],
      "source": [
        "b_prec_local_2opt[\"precision\"].describe()"
      ]
    },
    {
      "cell_type": "code",
      "metadata": {
        "collapsed": false
      },
      "outputs": [],
      "source": [
        "len(b_prec_local_2opt[b_prec_local_2opt[\"precision\"] == 1]) / len(b_prec_local_2opt)"
      ]
    },
    {
      "cell_type": "markdown",
      "metadata": {},
      "source": [
        "## Variables del grasp"
      ]
    },
    {
      "cell_type": "code",
      "metadata": {
        "collapsed": false
      },
      "outputs": [],
      "source": [
        "df_grasp_var['limite'] = df_grasp_var.apply(lambda row: float(row['subtype'].split()[0]), axis=1)\n",
        "df_grasp_var['inicios'] = df_grasp_var.apply(lambda row: float(row['subtype'].split()[1]), axis=1)\n",
        "\n",
        "# Extraido previamente correndo\n",
        "# df_grasp_var[['seed1','seed2','result']].groupby(['seed1','seed2']).min()\n",
        "results = {123: 370836.563283, 654: 338341.100322, 789: 368630.367911}\n",
        "df_grasp_var['min_result'] = df_grasp_var.apply(lambda row: results[row['seed1']], axis=1)\n",
        "df_grasp_var['precision'] = df_grasp_var['result'] / df_grasp_var['min_result']\n",
        "\n",
        "df_gv = df_grasp_var[(df_grasp_var['limite'] < 1.75) & (df_grasp_var['inicios'] < 1.75) &\n",
        "                     (df_grasp_var['limite'] > 0.15) & (df_grasp_var['inicios'] > 0.15)]\n",
        "df_gv_slim = df_gv[['limite','inicios','time', 'precision']]\n",
        "\n",
        "tmp = df_gv_slim.groupby(['limite','inicios']).mean()\n",
        "tmp = pd.DataFrame(tmp.to_records())\n",
        "df_gv_2d_li = tmp.pivot(index='limite', columns='inicios', values='time')\n",
        "df_gv_2d_il = tmp.pivot(index='inicios', columns='limite', values='time')\n",
        "\n",
        "df_gvr_2d_li = tmp.pivot(index='limite', columns='inicios', values='precision')\n",
        "df_gvr_2d_il = tmp.pivot(index='inicios', columns='limite', values='precision')"
      ]
    },
    {
      "cell_type": "code",
      "metadata": {
        "collapsed": false
      },
      "outputs": [],
      "source": [
        "plt.clf()\n",
        "\n",
        "cbar_kws = { 'ticks' : [0.01, 0.1, 1, 10] }\n",
        "ax = sns.heatmap(df_gv_2d_li.iloc[::-1], norm=LogNorm(vmin=0.01, vmax=15), square=True,\n",
        "                 cbar_kws=cbar_kws)\n",
        "plt.savefig(GRAPH_DIR + 'grasp-variables-heatmap.png')\n",
        "plt.show()"
      ]
    },
    {
      "cell_type": "code",
      "metadata": {
        "collapsed": false
      },
      "outputs": [],
      "source": [
        "plt.clf()\n",
        "axis1 = plt.subplot(1,2,1)\n",
        "plt.yscale('log')\n",
        "plt.ylabel('Tiempo en segundos')\n",
        "axis2 = plt.subplot(1,2,2)\n",
        "plt.yscale('log')\n",
        "\n",
        "df_gv_2d_li.plot(ax=axis1)\n",
        "df_gv_2d_il.plot(ax=axis2)\n",
        "\n",
        "handles, labels = axis1.get_legend_handles_labels()\n",
        "axis1.legend(handles[::-1], labels[::-1], title='inicios', loc='upper left',\n",
        "          bbox_to_anchor=(1,1))\n",
        "handles, labels = axis2.get_legend_handles_labels()\n",
        "axis2.legend(handles[::-1], labels[::-1], title='limite', loc='upper left',\n",
        "          bbox_to_anchor=(1,1))\n",
        "\n",
        "plt.subplots_adjust(wspace=0.5, hspace=None)\n",
        "\n",
        "plt.savefig(GRAPH_DIR + 'grasp-variables-time.png')\n",
        "plt.show()"
      ]
    },
    {
      "cell_type": "code",
      "metadata": {
        "collapsed": false
      },
      "outputs": [],
      "source": [
        "plt.clf()\n",
        "\n",
        "ax = sns.heatmap(df_gvr_2d_li.iloc[::-1])\n",
        "plt.savefig(GRAPH_DIR + 'grasp-variables-heatmap-prec.png')\n",
        "plt.show()"
      ]
    },
    {
      "cell_type": "code",
      "metadata": {
        "collapsed": false
      },
      "outputs": [],
      "source": [
        "tmp = df_gv_slim\n",
        "tmp = tmp[tmp['inicios'] == tmp['limite']]\n",
        "tmp[(tmp['inicios'] == 0.4) | (tmp['inicios'] == 1)].groupby(['inicios','limite']).mean()"
      ]
    },
    {
      "cell_type": "code",
      "metadata": {
        "collapsed": false
      },
      "outputs": [],
      "source": [
        "plt.clf()\n",
        "axis1 = plt.subplot(1,2,1)\n",
        "plt.ylabel('Precision')\n",
        "axis2 = plt.subplot(1,2,2)\n",
        "\n",
        "df_gvr_2d_li.plot(ax=axis1)\n",
        "df_gvr_2d_il.plot(ax=axis2)\n",
        "\n",
        "axis1.legend(title='inicios', loc='upper left', bbox_to_anchor=(1,1))\n",
        "axis2.legend(title='limite', loc='upper left', bbox_to_anchor=(1,1))\n",
        "\n",
        "plt.subplots_adjust(wspace=0.5, hspace=None)\n",
        "\n",
        "plt.savefig(GRAPH_DIR + 'grasp-variables-prec.png')\n",
        "plt.show()"
      ]
    }
  ],
  "metadata": {
    "anaconda-cloud": {},
    "kernelspec": {
      "display_name": "Python 3",
      "language": "python",
      "name": "python3"
    },
    "language_info": {
      "codemirror_mode": {
        "name": "ipython",
        "version": 3
      },
      "file_extension": ".py",
      "mimetype": "text/x-python",
      "name": "python",
      "nbconvert_exporter": "python",
      "pygments_lexer": "ipython3",
      "version": "3.5.2"
    }
  },
  "nbformat": 4,
  "nbformat_minor": 1
}