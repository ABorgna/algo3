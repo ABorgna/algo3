{
  "cells": [
    {
      "cell_type": "markdown",
      "metadata": {
        "collapsed": true
      },
      "source": [
        "## Grafiquitos"
      ]
    },
    {
      "cell_type": "code",
      "metadata": {
        "collapsed": true
      },
      "outputs": [],
      "source": [
        "import glob\n",
        "import matplotlib.pyplot as plt\n",
        "import numpy as np\n",
        "import os.path\n",
        "import pandas as pd\n",
        "import seaborn as sns"
      ]
    },
    {
      "cell_type": "code",
      "metadata": {
        "collapsed": true
      },
      "outputs": [],
      "source": [
        "BENCH_DIR = '../../bench/'\n",
        "GRAPH_DIR = '../../graph/'\n",
        "\n",
        "CSV_COLUMNS = [\"gyms\",\"stops\",\"bagSize\",\"time\",\"reps\",\"status\",\n",
        "               \"generator\",\"result\",\"algorithm\",\"subtype\",\"seed1\",\"seed2\"]"
      ]
    },
    {
      "cell_type": "markdown",
      "metadata": {},
      "source": [
        "Configuraci\u00f3n de matplotlib"
      ]
    },
    {
      "cell_type": "code",
      "metadata": {
        "collapsed": false
      },
      "outputs": [],
      "source": [
        "def plt_setlegend(ax, legend=None):\n",
        "    if legend is not None:\n",
        "        l = ax.legend(legend, loc='best', frameon=True, borderpad=0.5)\n",
        "    else:\n",
        "        l = ax.legend(loc='best', frameon=True, borderpad=0.5)\n",
        "    l.get_frame().set_linewidth(1)"
      ]
    },
    {
      "cell_type": "markdown",
      "metadata": {},
      "source": [
        "### Leemos los benchmarks\n",
        "Separamos los de time de los de result, ya que los \u00faltimos se corren una sola vez y pueden tener mucho ruido"
      ]
    },
    {
      "cell_type": "code",
      "metadata": {
        "collapsed": false
      },
      "outputs": [],
      "source": [
        "def readDf(wildcard):\n",
        "    files = glob.glob(os.path.join(BENCH_DIR, wildcard))\n",
        "    dfs = (pd.read_csv(f, names=CSV_COLUMNS, header=None) for f in files)\n",
        "    df = pd.concat(dfs, ignore_index=True)\n",
        "    df[\"nodes\"] = df[\"gyms\"] + df[\"stops\"]\n",
        "    df[\"time\"] = df[\"time\"] / 1e9\n",
        "    return df\n",
        "\n",
        "df_time = readDf(\"*-time-*\")\n",
        "df_result = readDf(\"*-result-*\")"
      ]
    },
    {
      "cell_type": "markdown",
      "metadata": {},
      "source": [
        "### Datos de las mediciones"
      ]
    },
    {
      "cell_type": "code",
      "metadata": {
        "collapsed": false
      },
      "outputs": [],
      "source": [
        "df_time[[\"algorithm\",\"subtype\"]].drop_duplicates()"
      ]
    },
    {
      "cell_type": "code",
      "metadata": {
        "collapsed": false
      },
      "outputs": [],
      "source": [
        "df_time.describe()"
      ]
    },
    {
      "cell_type": "code",
      "metadata": {
        "collapsed": false
      },
      "outputs": [],
      "source": [
        "df_result.describe()"
      ]
    },
    {
      "cell_type": "markdown",
      "metadata": {},
      "source": [
        "## Graficos de tiempo"
      ]
    },
    {
      "cell_type": "code",
      "metadata": {
        "collapsed": false
      },
      "outputs": [],
      "source": [
        "t_is_exacto = df_time[\"algorithm\"] == 'exacto'\n",
        "t_is_greedy = df_time[\"algorithm\"] == 'greedy'\n",
        "t_is_local = df_time[\"algorithm\"] == 'local'\n",
        "t_is_grasp = df_time[\"algorithm\"] == 'grasp'\n",
        "\n",
        "t_is_bruteforce = df_time[\"subtype\"] == 'none'\n",
        "t_is_backtracking = df_time[\"subtype\"] == 'backtracking'\n",
        "t_is_closest = df_time[\"subtype\"] == 'closest'\n",
        "t_is_furthest = df_time[\"subtype\"] == 'furthest'\n",
        "t_is_2opt = df_time[\"subtype\"] == 'dos_opt'\n",
        "t_is_swap = df_time[\"subtype\"] == 'swap'\n",
        "\n",
        "t_is_not_inf = df_time[\"result\"] != np.inf"
      ]
    },
    {
      "cell_type": "code",
      "metadata": {
        "collapsed": false
      },
      "outputs": [],
      "source": [
        "plt.clf()\n",
        "axis1 = plt.subplot(1,2,1)\n",
        "plt.ylabel('Tiempo en segundos')\n",
        "axis2 = plt.subplot(1,2,2)\n",
        "plt.ylabel('Tiempo en segundos')\n",
        "\n",
        "df_time[t_is_exacto & t_is_bruteforce].plot(\n",
        "    x=\"nodes\", y=\"time\", ax=axis1,\n",
        "    label=\"fuerza bruta\", style='o')\n",
        "\n",
        "df_time[t_is_exacto & t_is_backtracking].plot(\n",
        "    x=\"nodes\", y=\"time\", ax=axis2,\n",
        "    label=\"backtracking\", style='go')\n",
        "\n",
        "# Seteamos la misma escala para ambos\n",
        "axis1.set_yscale('log')\n",
        "axis2.set_yscale('log')\n",
        "x1,x2,y1,y2 = axis1.axis()\n",
        "axis2.set_ylim(y1,y2)\n",
        "\n",
        "plt.suptitle(\"Runtime de los algoritmos exactos, con mochilas 'infinitas'\")\n",
        "plt_setlegend(axis1)\n",
        "plt_setlegend(axis2)\n",
        "plt.savefig(GRAPH_DIR + 'time-exacto.png')\n",
        "plt.show()"
      ]
    },
    {
      "cell_type": "code",
      "metadata": {
        "collapsed": false
      },
      "outputs": [],
      "source": [
        "plt.clf()\n",
        "axis1 = plt.subplot(1,2,1)\n",
        "plt.ylabel('Tiempo en segundos')\n",
        "axis2 = plt.subplot(1,2,2)\n",
        "plt.ylabel('Tiempo en segundos')\n",
        "\n",
        "df_time[t_is_greedy & t_is_furthest & t_is_not_inf].plot(\n",
        "    x=\"nodes\", y=\"time\", ax=axis1,\n",
        "    label=\"heur\u00edstica greedy, closest first\", style='o')\n",
        "df_time[t_is_greedy & t_is_closest & t_is_not_inf].plot(\n",
        "    x=\"nodes\", y=\"time\", ax=axis2,\n",
        "    label=\"heur\u00edstica greedy, furthest first\", style='go')\n",
        "\n",
        "# Seteamos la misma escala para ambos\n",
        "x1,x2,y1,y2 = axis1.axis()\n",
        "axis2.set_ylim(y1,y2)\n",
        "\n",
        "plt.suptitle(\"Runtime de las heur\u00edsticas greedy, con mochilas 'infinitas'\")\n",
        "plt_setlegend(axis1)\n",
        "plt_setlegend(axis2)\n",
        "plt.savefig(GRAPH_DIR + 'time-greedy.png')\n",
        "plt.show()"
      ]
    },
    {
      "cell_type": "code",
      "metadata": {
        "collapsed": false
      },
      "outputs": [],
      "source": [
        "plt.clf()\n",
        "axis1 = plt.subplot(1,2,1)\n",
        "plt.ylabel('Tiempo en segundos')\n",
        "axis2 = plt.subplot(1,2,2)\n",
        "plt.ylabel('Tiempo en segundos')\n",
        "\n",
        "ax = df_time[t_is_local & t_is_swap & t_is_not_inf].plot(\n",
        "    x=\"nodes\", y=\"time\", ax=axis1,\n",
        "    label=\"heur\u00edstica local, swap\", style='o')\n",
        "ax = df_time[t_is_local & t_is_2opt & t_is_not_inf].plot(\n",
        "    x=\"nodes\", y=\"time\", ax=axis2,\n",
        "    label=\"heur\u00edstica local, 2opt\", style='go')\n",
        "\n",
        "# Seteamos la misma escala para ambos\n",
        "x1,x2,y1,y2 = axis1.axis()\n",
        "axis2.set_ylim(y1,y2)\n",
        "\n",
        "plt.suptitle(\"Runtime de las heur\u00edsticas locales, con mochilas 'infinitas'\")\n",
        "plt_setlegend(axis1)\n",
        "plt_setlegend(axis2)\n",
        "plt.savefig(GRAPH_DIR + 'time-local.png')\n",
        "plt.show()"
      ]
    },
    {
      "cell_type": "code",
      "metadata": {
        "collapsed": false
      },
      "outputs": [],
      "source": [
        "plt.clf()\n",
        "fig, ax = plt.subplots()\n",
        "\n",
        "ax = df_time[t_is_grasp & t_is_not_inf].plot(x=\"nodes\", y=\"time\", ax=ax,\n",
        "                            label=\"heur\u00edstica grasp\", style='o')\n",
        "plt.ylabel('Tiempo en segundos')\n",
        "plt.title(\"Runtime de la metaheur\u00edstica grasp, con mochilas 'infinitas'\")\n",
        "plt_setlegend(ax)\n",
        "plt.savefig(GRAPH_DIR + 'time-grasp.png')\n",
        "plt.show()"
      ]
    },
    {
      "cell_type": "markdown",
      "metadata": {},
      "source": [
        "## Graficos de precisi\u00f3n"
      ]
    },
    {
      "cell_type": "markdown",
      "metadata": {},
      "source": [
        "### En funcion del exacto"
      ]
    },
    {
      "cell_type": "code",
      "metadata": {
        "collapsed": true
      },
      "outputs": [],
      "source": [
        "is_exacto = df_result[\"algorithm\"] == 'exacto'\n",
        "is_greedy = df_result[\"algorithm\"] == 'greedy'\n",
        "is_local = df_result[\"algorithm\"] == 'local'\n",
        "is_grasp = df_result[\"algorithm\"] == 'grasp'\n",
        "\n",
        "is_closest = df_result[\"subtype\"] == 'closest'\n",
        "is_furthest = df_result[\"subtype\"] == 'furthest'\n",
        "is_2opt = df_result[\"subtype\"] == 'dos_opt'\n",
        "is_swap = df_result[\"subtype\"] == 'swap'\n",
        "\n",
        "merge_cols = [\"gyms\",\"stops\",\"nodes\",\"bagSize\",\"generator\",\"seed1\",\"seed2\"]\n",
        "columns = merge_cols + [\"result\"]\n",
        "ext_columns = columns + [\"algorithm\", \"subtype\"]\n",
        "\n",
        "small_exacto = df_result[is_exacto][columns]\n",
        "small_exacto = small_exacto[small_exacto[\"result\"] != np.inf]\n",
        "small_exacto.rename(columns={\"result\": \"result_exacto\"}, inplace=True)\n",
        "\n",
        "def getPrecision(data_filter, name):\n",
        "    tmp = pd.merge(df_result[data_filter][ext_columns],\n",
        "                           small_exacto, on=merge_cols)\n",
        "    tmp = tmp[tmp[\"result\"] != np.inf]\n",
        "    tmp[\"precision\"] = tmp[\"result\"] / tmp[\"result_exacto\"]\n",
        "    tmp[\"name\"] = name\n",
        "    return tmp\n",
        "\n",
        "prec_greedy_closest = getPrecision(is_greedy & is_closest, 'greedy closest first')\n",
        "prec_greedy_furthest = getPrecision(is_greedy & is_furthest, 'greedy furthest first')\n",
        "prec_local_2opt = getPrecision(is_local & is_2opt, 'local, 2opt')\n",
        "prec_local_swap = getPrecision(is_local & is_swap, 'local, swap')\n",
        "prec_grasp = getPrecision(is_grasp, 'grasp')\n",
        "\n",
        "prec_all = prec_greedy_closest.append(prec_greedy_furthest\n",
        "                             ).append(prec_local_2opt).append(prec_local_swap\n",
        "                             ).append(prec_grasp)"
      ]
    },
    {
      "cell_type": "code",
      "metadata": {
        "collapsed": false
      },
      "outputs": [],
      "source": [
        "sns.boxplot(x='name', y='precision', data=prec_all)\n",
        "plt.savefig(GRAPH_DIR + 'precision-small-all.png')\n",
        "plt.show()"
      ]
    },
    {
      "cell_type": "code",
      "metadata": {
        "collapsed": false
      },
      "outputs": [],
      "source": [
        "sns.boxplot(x='nodes', y='precision', data=prec_local_2opt)\n",
        "plt.savefig(GRAPH_DIR + 'precision-small-local-2opt.png')\n",
        "plt.show()"
      ]
    },
    {
      "cell_type": "code",
      "metadata": {
        "collapsed": false
      },
      "outputs": [],
      "source": [
        "sns.boxplot(x='nodes', y='precision', data=prec_local_swap)\n",
        "plt.savefig(GRAPH_DIR + 'precision-small-local-swap.png')\n",
        "plt.show()"
      ]
    },
    {
      "cell_type": "markdown",
      "metadata": {},
      "source": [
        "### En funcion del m\u00ednimo entre las her\u00edsticas"
      ]
    },
    {
      "cell_type": "code",
      "metadata": {
        "collapsed": false
      },
      "outputs": [],
      "source": [
        "is_exacto = df_result[\"algorithm\"] == 'exacto'\n",
        "is_greedy = df_result[\"algorithm\"] == 'greedy'\n",
        "is_local = df_result[\"algorithm\"] == 'local'\n",
        "is_grasp = df_result[\"algorithm\"] == 'grasp'\n",
        "\n",
        "is_closest = df_result[\"subtype\"] == 'closest'\n",
        "is_furthest = df_result[\"subtype\"] == 'furthest'\n",
        "is_2opt = df_result[\"subtype\"] == 'dos_opt'\n",
        "is_swap = df_result[\"subtype\"] == 'swap'\n",
        "\n",
        "merge_cols = [\"gyms\",\"stops\",\"nodes\",\"bagSize\",\"generator\",\"seed1\",\"seed2\"]\n",
        "columns = merge_cols + [\"result\"]\n",
        "min_columns = merge_cols + [\"min_result\"]\n",
        "ext_columns = columns + [\"algorithm\", \"subtype\"]\n",
        "\n",
        "minResult = df_result[is_grasp].rename(columns={\"result\": \"min_result\"})\n",
        "minResult = minResult[min_columns]\n",
        "minResult = minResult[minResult[\"min_result\"] != np.inf]\n",
        "\n",
        "def mergeMinimums(data_filter):\n",
        "    global minResult\n",
        "    minResult = pd.merge(df_result[data_filter][columns], minResult, on=merge_cols)\n",
        "    minResult['min_result'] = minResult.loc[:, ['result', 'min_result']].min(axis=1)\n",
        "    minResult = minResult[min_columns]\n",
        "\n",
        "mergeMinimums(is_greedy & is_closest)\n",
        "mergeMinimums(is_greedy & is_furthest)\n",
        "mergeMinimums(is_local & is_2opt)\n",
        "mergeMinimums(is_local & is_swap)\n",
        "\n",
        "def getPrecision(data_filter, name):\n",
        "    tmp = pd.merge(df_result[data_filter][ext_columns], minResult, on=merge_cols)\n",
        "    tmp = tmp[tmp[\"result\"] != np.inf]\n",
        "    tmp[\"precision\"] = tmp[\"result\"] / tmp[\"min_result\"]\n",
        "    tmp[\"name\"] = name\n",
        "    return tmp\n",
        "\n",
        "prec_greedy_closest = getPrecision(is_greedy & is_closest, 'greedy closest first')\n",
        "prec_greedy_furthest = getPrecision(is_greedy & is_furthest, 'greedy furthest first')\n",
        "prec_local_2opt = getPrecision(is_local & is_2opt, 'local, 2opt')\n",
        "prec_local_swap = getPrecision(is_local & is_swap, 'local, swap')\n",
        "prec_grasp = getPrecision(is_grasp, 'grasp')\n",
        "\n",
        "prec_all = prec_greedy_closest.append(prec_greedy_furthest\n",
        "                             ).append(prec_local_2opt).append(prec_local_swap\n",
        "                             ).append(prec_grasp)"
      ]
    },
    {
      "cell_type": "code",
      "metadata": {
        "collapsed": false
      },
      "outputs": [],
      "source": [
        "sns.boxplot(x='name', y='precision', data=prec_all)\n",
        "plt.savefig(GRAPH_DIR + 'precision-big-all.png')\n",
        "plt.show()"
      ]
    },
    {
      "cell_type": "code",
      "metadata": {
        "collapsed": false
      },
      "outputs": [],
      "source": [
        "sns.boxplot(x='nodes', y='precision', data=prec_local_2opt)\n",
        "plt.savefig(GRAPH_DIR + 'precision-big-local-2opt.png')\n",
        "plt.show()"
      ]
    },
    {
      "cell_type": "code",
      "metadata": {
        "collapsed": false
      },
      "outputs": [],
      "source": [
        "sns.boxplot(x='nodes', y='precision', data=prec_local_swap)\n",
        "plt.savefig(GRAPH_DIR + 'precision-big-local-swap.png')\n",
        "plt.show()"
      ]
    },
    {
      "cell_type": "code",
      "metadata": {
        "collapsed": false
      },
      "outputs": [],
      "source": [
        "sns.boxplot(x='nodes', y='precision', data=prec_grasp)\n",
        "plt.savefig(GRAPH_DIR + 'precision-big-grasp.png')\n",
        "plt.show()"
      ]
    },
    {
      "cell_type": "code",
      "metadata": {
        "collapsed": false
      },
      "outputs": [],
      "source": [
        "prec_grasp[\"precision\"].describe()"
      ]
    }
  ],
  "metadata": {
    "kernelspec": {
      "display_name": "Python 3",
      "language": "python",
      "name": "python3"
    },
    "language_info": {
      "codemirror_mode": {
        "name": "ipython",
        "version": 3
      },
      "file_extension": ".py",
      "mimetype": "text/x-python",
      "name": "python",
      "nbconvert_exporter": "python",
      "pygments_lexer": "ipython3",
      "version": "3.5.2"
    }
  },
  "nbformat": 4,
  "nbformat_minor": 1
}