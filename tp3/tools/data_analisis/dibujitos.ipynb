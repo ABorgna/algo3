{
  "cells": [
    {
      "cell_type": "markdown",
      "metadata": {},
      "source": [
        "## Grafiquitos"
      ]
    },
    {
      "cell_type": "code",
      "metadata": {
        "collapsed": true
      },
      "outputs": [],
      "source": [
        "import glob\n",
        "import matplotlib.pyplot as plt\n",
        "import numpy as np\n",
        "import os.path\n",
        "import pandas as pd\n",
        "import seaborn as sns"
      ]
    },
    {
      "cell_type": "code",
      "metadata": {
        "collapsed": true
      },
      "outputs": [],
      "source": [
        "BENCH_DIR = '../../bench/'\n",
        "GRAPH_DIR = '../../graph/'\n",
        "\n",
        "CSV_COLUMNS = [\"gyms\",\"stops\",\"bagSize\",\"time\",\"reps\",\"status\",\n",
        "               \"generator\",\"result\",\"algorithm\",\"subtype\",\"seed1\",\"seed2\"]"
      ]
    },
    {
      "cell_type": "markdown",
      "metadata": {},
      "source": [
        "Configuraci\u00f3n de matplotlib"
      ]
    },
    {
      "cell_type": "code",
      "metadata": {
        "collapsed": false
      },
      "outputs": [],
      "source": [
        "def plt_setlegend(ax, legend=None):\n",
        "    if legend is not None:\n",
        "        l = ax.legend(legend, loc='best', frameon=True, borderpad=0.5)\n",
        "    else:\n",
        "        l = ax.legend(loc='best', frameon=True, borderpad=0.5)\n",
        "    l.get_frame().set_linewidth(1)"
      ]
    },
    {
      "cell_type": "markdown",
      "metadata": {},
      "source": [
        "### Leemos los benchmarks\n",
        "Separamos los de time de los de result, ya que los \u00faltimos se corren una sola vez y pueden tener mucho ruido"
      ]
    },
    {
      "cell_type": "code",
      "metadata": {
        "collapsed": false
      },
      "outputs": [],
      "source": [
        "def readDf(wildcard):\n",
        "    files = glob.glob(os.path.join(BENCH_DIR, wildcard))\n",
        "    dfs = (pd.read_csv(f, names=CSV_COLUMNS, header=None) for f in files)\n",
        "    df = pd.concat(dfs, ignore_index=True)\n",
        "    df[\"nodes\"] = df[\"gyms\"] + df[\"stops\"]\n",
        "    df[\"time\"] = df[\"time\"] / 1e9\n",
        "    return df\n",
        "\n",
        "df_time = readDf(\"*-time-*\")\n",
        "df_result = readDf(\"*-result-*\")"
      ]
    },
    {
      "cell_type": "markdown",
      "metadata": {},
      "source": [
        "### Datos de las mediciones"
      ]
    },
    {
      "cell_type": "code",
      "metadata": {
        "collapsed": false
      },
      "outputs": [],
      "source": [
        "df_time[[\"algorithm\",\"subtype\"]].drop_duplicates()"
      ]
    },
    {
      "cell_type": "code",
      "metadata": {
        "collapsed": false
      },
      "outputs": [],
      "source": [
        "df_time.describe()"
      ]
    },
    {
      "cell_type": "code",
      "metadata": {
        "collapsed": false
      },
      "outputs": [],
      "source": [
        "df_result.describe()"
      ]
    },
    {
      "cell_type": "markdown",
      "metadata": {},
      "source": [
        "### Graficos de tiempo"
      ]
    },
    {
      "cell_type": "code",
      "metadata": {
        "collapsed": false
      },
      "outputs": [],
      "source": [
        "is_exacto = df_time[\"algorithm\"] == 'exacto'\n",
        "is_greedy = df_time[\"algorithm\"] == 'greedy'\n",
        "is_local = df_time[\"algorithm\"] == 'local'\n",
        "\n",
        "is_bruteforce = df_time[\"subtype\"] == 'none'\n",
        "is_backtracking = df_time[\"subtype\"] == 'backtracking'\n",
        "is_2opt = df_time[\"subtype\"] == 'dos_opt'\n",
        "is_swap = df_time[\"subtype\"] == 'swap'"
      ]
    },
    {
      "cell_type": "code",
      "metadata": {
        "collapsed": false
      },
      "outputs": [],
      "source": [
        "plt.clf()\n",
        "fig, ax = plt.subplots()\n",
        "\n",
        "df_time[is_exacto & is_bruteforce].plot(x=\"nodes\", y=\"time\", ax=ax,\n",
        "                                        label=\"fuerza bruta\", style='o')\n",
        "\n",
        "df_time[is_exacto & is_backtracking].plot(x=\"nodes\", y=\"time\", ax=ax,\n",
        "                                        label=\"backtracking\", style='o')\n",
        "plt.ylabel('Tiempos en segundos')\n",
        "plt_setlegend(ax)\n",
        "plt.savefig(GRAPH_DIR + 'time-exacto.png')\n",
        "plt.show()"
      ]
    },
    {
      "cell_type": "code",
      "metadata": {
        "collapsed": false
      },
      "outputs": [],
      "source": [
        "plt.clf()\n",
        "fig, ax = plt.subplots()\n",
        "\n",
        "df_time[is_greedy].plot(x=\"nodes\", y=\"time\", ax=ax,\n",
        "                        label=\"heur\u00edstica greedy\", style='o')\n",
        "plt.ylabel('Tiempos en segundos')\n",
        "plt_setlegend(ax)\n",
        "plt.savefig(GRAPH_DIR + 'time-greedy.png')\n",
        "plt.show()"
      ]
    },
    {
      "cell_type": "code",
      "metadata": {
        "collapsed": false
      },
      "outputs": [],
      "source": [
        "plt.clf()\n",
        "fig, ax = plt.subplots()\n",
        "\n",
        "ax = df_time[is_local & is_2opt].plot(x=\"nodes\", y=\"time\", ax=ax,\n",
        "                                 label=\"heur\u00edstica local, 2opt\", style='o')\n",
        "ax = df_time[is_local & is_swap].plot(x=\"nodes\", y=\"time\", ax=ax,\n",
        "                                 label=\"heur\u00edstica local, swap\", style='o')\n",
        "plt.ylabel('Tiempos en segundos')\n",
        "plt_setlegend(ax)\n",
        "plt.savefig(GRAPH_DIR + 'time-local.png')\n",
        "plt.show()"
      ]
    },
    {
      "cell_type": "markdown",
      "metadata": {},
      "source": [
        "### Graficos de precisi\u00f3n"
      ]
    },
    {
      "cell_type": "code",
      "metadata": {
        "collapsed": false
      },
      "outputs": [],
      "source": [
        "is_exacto = df_result[\"algorithm\"] == 'exacto'\n",
        "is_greedy = df_result[\"algorithm\"] == 'greedy'\n",
        "is_local = df_result[\"algorithm\"] == 'local'\n",
        "\n",
        "is_2opt = df_result[\"subtype\"] == 'dos_opt'\n",
        "is_swap = df_result[\"subtype\"] == 'swap'\n",
        "\n",
        "merge_cols = [\"gyms\",\"stops\",\"nodes\",\"bagSize\",\"generator\",\"seed1\",\"seed2\"]\n",
        "columns = merge_cols + [\"result\"]\n",
        "ext_columns = columns + [\"algorithm\", \"subtype\"]\n",
        "\n",
        "small_exacto = df_result[is_exacto][columns]\n",
        "small_exacto = small_exacto[small_exacto[\"result\"] != np.inf]\n",
        "small_exacto.rename(columns={\"result\": \"result_exacto\"}, inplace=True)\n",
        "\n",
        "def getPrecision(data_filter, name):\n",
        "    tmp = pd.merge(df_result[data_filter][ext_columns],\n",
        "                           small_exacto, on=merge_cols)\n",
        "    tmp = tmp[tmp[\"result\"] != np.inf]\n",
        "    tmp[\"precision\"] = tmp[\"result\"] / tmp[\"result_exacto\"]\n",
        "    tmp[\"name\"] = name\n",
        "    return tmp\n",
        "\n",
        "prec_greedy = getPrecision(is_greedy, 'greedy')\n",
        "prec_local_2opt = getPrecision(is_local & is_2opt, 'local_2opt')\n",
        "prec_local_swap = getPrecision(is_local & is_swap, 'local_swap')\n",
        "\n",
        "prec_all = prec_greedy.append(prec_local_2opt).append(prec_local_swap)"
      ]
    },
    {
      "cell_type": "code",
      "metadata": {
        "collapsed": false
      },
      "outputs": [],
      "source": [
        "sns.boxplot(x='name', y='precision', data=prec_all)\n",
        "plt.savefig(GRAPH_DIR + 'precision-small-all.png')\n",
        "plt.show()"
      ]
    },
    {
      "cell_type": "code",
      "metadata": {
        "collapsed": false
      },
      "outputs": [],
      "source": [
        "sns.boxplot(x='nodes', y='precision', data=prec_local_2opt)\n",
        "plt.savefig(GRAPH_DIR + 'precision-small-local-2opt.png')\n",
        "plt.show()"
      ]
    },
    {
      "cell_type": "code",
      "metadata": {
        "collapsed": false
      },
      "outputs": [],
      "source": [
        "sns.boxplot(x='nodes', y='precision', data=prec_local_swap)\n",
        "plt.savefig(GRAPH_DIR + 'precision-small-local-swap.png')\n",
        "plt.show()"
      ]
    }
  ],
  "metadata": {
    "kernelspec": {
      "display_name": "Python 3",
      "language": "python",
      "name": "python3"
    },
    "language_info": {
      "codemirror_mode": {
        "name": "ipython",
        "version": 3
      },
      "file_extension": ".py",
      "mimetype": "text/x-python",
      "name": "python",
      "nbconvert_exporter": "python",
      "pygments_lexer": "ipython3",
      "version": "3.5.2"
    }
  },
  "nbformat": 4,
  "nbformat_minor": 1
}