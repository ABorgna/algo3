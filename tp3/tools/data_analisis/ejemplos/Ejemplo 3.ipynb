{
  "cells": [
    {
      "cell_type": "code",
      "metadata": {
        "collapsed": true
      },
      "outputs": [],
      "source": [
        "import pandas as pd\n",
        "import seaborn as sns\n",
        "import matplotlib.pyplot as plt\n",
        "import numpy as np\n",
        "from scipy import stats\n",
        "import random"
      ]
    },
    {
      "cell_type": "code",
      "metadata": {
        "collapsed": false
      },
      "outputs": [],
      "source": [
        "nodos = range(1,100)\n",
        "tiempos = [random.normalvariate(n**2,50) for n in nodos]\n",
        "complejidad = [1500 + (n**2) for n in nodos]\n",
        "\n",
        "df = pd.DataFrame({'Nodos': nodos, 'Tiempo (milisegundos)': tiempos, 'Complejidad n^n': complejidad})"
      ]
    },
    {
      "cell_type": "code",
      "metadata": {
        "collapsed": false
      },
      "outputs": [],
      "source": [
        "plt.clf()\n",
        "df.plot(x='Nodos')\n",
        "plt.ylabel('Tiempo (milisegundos)')\n",
        "plt.show()"
      ]
    },
    {
      "cell_type": "code",
      "metadata": {
        "collapsed": false
      },
      "outputs": [],
      "source": [
        "df2 = pd.DataFrame()\n",
        "\n",
        "tiempos1 = map(lambda x: random.normalvariate(500,100) + random.normalvariate(x**2,50), nodos)\n",
        "tiempos2 = map(lambda x: random.normalvariate(1000,100) + random.normalvariate(x**2,50), nodos)\n",
        "tiempos3 = map(lambda x: random.normalvariate(4000,100) + random.normalvariate(x**2,50), nodos)\n",
        "tiempos4 = map(lambda x: random.normalvariate(8000,100) + random.normalvariate(x**2,50), nodos)\n",
        "\n",
        "df2['Nodos'] = nodos\n",
        "df2['Complejidad n*n'] = complejidad\n",
        "df2['Tiempos de ejecucion core-i7 2.0 GHz x4'] = tiempos\n",
        "df2['Tiempos de ejecucion core-i7 2.0 GHz'] = tiempos1\n",
        "df2['Tiempos de ejecucion core-i7 2.0 GHz (usando chrome)'] = tiempos3\n",
        "df2['Tiempos de ejecucion pentium4 1.8 GHz'] = tiempos2\n",
        "df2['Tiempos de ejecucion chino 0.5 GHz'] = tiempos4\n",
        "\n",
        "plt.clf()\n",
        "df2.plot(x='Nodos')\n",
        "plt.ylabel('Tiempo (milisegundos)')\n",
        "plt.show()"
      ]
    },
    {
      "cell_type": "markdown",
      "metadata": {},
      "source": [
        "## \u00bfComo hago entonces para comparar peras con manzanas si es lo que necesito?\n",
        "En algunos casos donde conocemos uno de los datos y necesitamos estudiar otro, si sabemos que existe una correlaci\u00f3n entre dos o m\u00e1s variables, lo que podemos hacer es mirar la correlaci\u00f3n entre los datos. Es importante destacar que la valides de los resultados depende fuertemente del conocimiento previo entre la relaci\u00f3n de las variables, dicho de otro modo, que la correlaci\u00f3n existente tenga una explicaci\u00f3n de causalidad y no de casualidad.\n",
        "\n",
        "Algunos ejemplos:\n",
        "- La cantidad de muertos por ahogo est\u00e1 fuertemente correlacionada con la venta de helado. No hay causalidad pero tampoco casualidad, lo que sucede es que ambas variables estan correlacionadas con el calor y cuanto mas calor mas se mete al mar la gente y m\u00e1s elado comprar, hay una causalidad comun.\n",
        "- La cantidad de manzanas producidas por un manzano esta fuertemente correlacionada con la cantidad de peras producidas por un peral. Por el mismo motivo que en el ejemplo anterior, ambas plantas dan frutas en el mismo momento del a\u00f1o.\n",
        "- El tiempo de corrida de un programa esta fuertemente correlacionado con la complejidad del algoritmo."
      ]
    },
    {
      "cell_type": "code",
      "metadata": {
        "collapsed": false
      },
      "outputs": [],
      "source": [
        "df3 = pd.DataFrame()\n",
        "\n",
        "df3['Nodos'] = nodos\n",
        "df3['Tiempos'] = tiempos\n",
        "df3['Complejidad n^2'] = [n**2 for n in nodos]\n",
        "df3['Complejidad n^3'] = [n**3 for n in nodos]\n",
        "df3['Complejidad n^8'] = [n**8 for n in nodos]"
      ]
    },
    {
      "cell_type": "code",
      "metadata": {
        "collapsed": false
      },
      "outputs": [],
      "source": [
        "plt.clf()\n",
        "correlation = df3.corr()\n",
        "correlation"
      ]
    },
    {
      "cell_type": "code",
      "metadata": {
        "collapsed": false
      },
      "outputs": [],
      "source": [
        "sns.jointplot(df3['Complejidad n^8'], df3['Tiempos'], kind=\"reg\")\n",
        "sns.plt.show()"
      ]
    },
    {
      "cell_type": "code",
      "metadata": {
        "collapsed": false
      },
      "outputs": [],
      "source": [
        "sns.jointplot(df3['Complejidad n^3'], df3['Tiempos'], kind=\"reg\")\n",
        "sns.plt.show()"
      ]
    },
    {
      "cell_type": "code",
      "metadata": {
        "collapsed": false
      },
      "outputs": [],
      "source": [
        "sns.jointplot(df3['Complejidad n^2'], df3['Tiempos'], kind=\"reg\")\n",
        "sns.plt.show()"
      ]
    }
  ],
  "metadata": {
    "kernelspec": {
      "display_name": "Python 3",
      "language": "python",
      "name": "python3"
    },
    "language_info": {
      "codemirror_mode": {
        "name": "ipython",
        "version": 3
      },
      "file_extension": ".py",
      "mimetype": "text/x-python",
      "name": "python",
      "nbconvert_exporter": "python",
      "pygments_lexer": "ipython3",
      "version": "3.5.2"
    }
  },
  "nbformat": 4,
  "nbformat_minor": 1
}