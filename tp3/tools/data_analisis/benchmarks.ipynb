{
  "cells": [
    {
      "cell_type": "markdown",
      "metadata": {
        "collapsed": true
      },
      "source": [
        "## Creamos la funciones auxiliares"
      ]
    },
    {
      "cell_type": "code",
      "metadata": {
        "collapsed": true
      },
      "outputs": [],
      "source": [
        "import os.path\n",
        "import subprocess"
      ]
    },
    {
      "cell_type": "code",
      "metadata": {
        "collapsed": true
      },
      "outputs": [],
      "source": [
        "BIN_DIR = '../../build/'\n",
        "BENCH_DIR = '../../bench/'\n",
        "\n",
        "DEFAULT_BENCH_TIME = 0.1"
      ]
    },
    {
      "cell_type": "markdown",
      "metadata": {},
      "source": [
        "`getCheckpoint()` nos indica cuantas mediciones ya hicimos, y tenemeos que saltear"
      ]
    },
    {
      "cell_type": "code",
      "metadata": {
        "collapsed": true
      },
      "outputs": [],
      "source": [
        "def getCheckpoint(file):\n",
        "    if not os.path.isfile(file):\n",
        "        return 0\n",
        "    with open(file) as f:\n",
        "        lines = sum(1 for line in f)\n",
        "    return lines"
      ]
    },
    {
      "cell_type": "markdown",
      "metadata": {},
      "source": [
        "`execute` es un wrapper sobre `subprocess` para que se printee stdout mientras se va ejecutando"
      ]
    },
    {
      "cell_type": "code",
      "metadata": {
        "collapsed": true
      },
      "outputs": [],
      "source": [
        "def execute(args):\n",
        "    popen = subprocess.Popen(args, stdout=subprocess.PIPE, stderr=subprocess.STDOUT, universal_newlines=True)\n",
        "    stdout_lines = iter(popen.stdout.readline, \"\")\n",
        "    for stdout_line in stdout_lines:\n",
        "        yield stdout_line\n",
        "        \n",
        "    popen.stdout.close()\n",
        "    return_code = popen.wait()\n",
        "    if return_code != 0:\n",
        "        raise subprocess.CalledProcessError(return_code, args)"
      ]
    },
    {
      "cell_type": "markdown",
      "metadata": {},
      "source": [
        "`doBench()` corre los benchmarks necesarios, sin repetir los que ya se hicieron"
      ]
    },
    {
      "cell_type": "code",
      "metadata": {
        "collapsed": true
      },
      "outputs": [],
      "source": [
        "def doBench(algoritmo, out, variables, extraArgs='', minTime=None, reps=4, casos=1, quiet=False, checkpointOffset=0):\n",
        "    executable = BIN_DIR + algoritmo\n",
        "    output = BENCH_DIR + algoritmo + '-' + out\n",
        "    minTime = minTime if minTime is not None else DEFAULT_BENCH_TIME\n",
        "    \n",
        "    checkpoint = max(0, getCheckpoint(output) - checkpointOffset)\n",
        "    if checkpoint > 0 and quiet < 2:\n",
        "        print(\"Salteando\", checkpoint, \"combinaciones\")\n",
        "    \n",
        "    args = executable\n",
        "    args += \" -o \" + output\n",
        "    args += \" -a \" + variables + \" \" + str(reps) + \" \" + str(casos)\n",
        "    args += \" -c \" + str(checkpoint)\n",
        "    args += \" \" + extraArgs\n",
        "    if minTime > 0:\n",
        "        args += \" -A \" + str(minTime)\n",
        "\n",
        "    args = args.split()\n",
        "    for line in execute(args):\n",
        "        if quiet:\n",
        "            print('.', end='')\n",
        "        else:\n",
        "            print(line, end='')\n",
        "    \n",
        "    if quiet < 2:\n",
        "        print('Done!')"
      ]
    },
    {
      "cell_type": "markdown",
      "metadata": {},
      "source": [
        "## Benchmarks de tiempos para cada algoritmo\n",
        "\n",
        "### En funcion de la cantidad de nodos, mochila de tama\u00f1o $\\infty$"
      ]
    },
    {
      "cell_type": "markdown",
      "metadata": {},
      "source": [
        "#### Exacto bruteforce (todas las permutaciones)"
      ]
    },
    {
      "cell_type": "code",
      "metadata": {
        "collapsed": false
      },
      "outputs": [],
      "source": [
        "doBench('exacto', 'time-bruteforce', '2:5 2:5 1000', '-p none', casos=5, quiet=True)"
      ]
    },
    {
      "cell_type": "markdown",
      "metadata": {},
      "source": [
        "#### Exacto bruteforce (podado)"
      ]
    },
    {
      "cell_type": "code",
      "metadata": {
        "collapsed": false
      },
      "outputs": [],
      "source": [
        "doBench('exacto', 'time-backtracking', '2:5 2:5 1000', '-p backtracking', casos=5, quiet=True)"
      ]
    },
    {
      "cell_type": "markdown",
      "metadata": {},
      "source": [
        "#### Greedy (closest first)"
      ]
    },
    {
      "cell_type": "code",
      "metadata": {
        "collapsed": false,
        "scrolled": true
      },
      "outputs": [],
      "source": [
        "doBench('greedy', 'time-closest', '2:5 2:5 1000',quiet=True)\n",
        "doBench('greedy', 'time-closest-extended',\n",
        "        '1000:10000:1000 1000:10000:1000 100000000', quiet=True)"
      ]
    },
    {
      "cell_type": "markdown",
      "metadata": {},
      "source": [
        "#### Greedy (furthest first)"
      ]
    },
    {
      "cell_type": "code",
      "metadata": {
        "collapsed": false,
        "scrolled": true
      },
      "outputs": [],
      "source": [
        "doBench('greedy', 'time-furthest', '2:5 2:5 1000', '-t furthest', quiet=True)\n",
        "doBench('greedy', 'time-furthest-extended',\n",
        "        '1000:10000:1000 1000:10000:1000 100000000',\n",
        "        '-t furthest', quiet=True)"
      ]
    },
    {
      "cell_type": "markdown",
      "metadata": {},
      "source": [
        "#### Local (2 opt)"
      ]
    },
    {
      "cell_type": "code",
      "metadata": {
        "collapsed": false,
        "scrolled": true
      },
      "outputs": [],
      "source": [
        "doBench('local', 'time-2opt', '2:5 2:5 1000', '-t dos_opt', quiet=True)\n",
        "doBench('local', 'time-2opt-extended', '10:100:10 10:100:10 100000', '-t dos_opt', quiet=True)"
      ]
    },
    {
      "cell_type": "markdown",
      "metadata": {},
      "source": [
        "#### Local (swap)"
      ]
    },
    {
      "cell_type": "code",
      "metadata": {
        "collapsed": false,
        "scrolled": true
      },
      "outputs": [],
      "source": [
        "doBench('local', 'time-swap', '2:5 2:5 1000', '-t swap', quiet=True)\n",
        "doBench('local', 'time-swap-extended', '10:100:10 10:100:10 100000', '-t swap', quiet=True)"
      ]
    },
    {
      "cell_type": "markdown",
      "metadata": {},
      "source": [
        "#### Grasp"
      ]
    },
    {
      "cell_type": "code",
      "metadata": {
        "collapsed": false,
        "scrolled": true
      },
      "outputs": [],
      "source": [
        "doBench('grasp', 'time-grasp', '2:5 2:5 1000', quiet=True)\n",
        "doBench('grasp', 'time-grasp-extended', '10:50:5 10:50:5 100000', quiet=True)"
      ]
    },
    {
      "cell_type": "markdown",
      "metadata": {},
      "source": [
        "## Benchmarks de precisi\u00f3n de las heur\u00edsticas"
      ]
    },
    {
      "cell_type": "markdown",
      "metadata": {},
      "source": [
        "#### Comparando con el exacto"
      ]
    },
    {
      "cell_type": "code",
      "metadata": {
        "collapsed": false,
        "scrolled": true
      },
      "outputs": [],
      "source": [
        "seed = 123\n",
        "counter = -1\n",
        "skip = getCheckpoint(BENCH_DIR + 'exacto-result-small')\n",
        "\n",
        "for gyms in range(1,12):\n",
        "    for stops in range(1, 13-gyms):\n",
        "        for mochila in (3, stops, stops*2, stops*3):\n",
        "            counter += 1\n",
        "            seed = gyms * 5 + stops * 3 + mochila * 2\n",
        "            if counter < skip:\n",
        "                continue\n",
        "            \n",
        "            variables = \"{} {} {}\".format(gyms, stops, mochila)\n",
        "            s = \"-s {} {} \".format(seed,seed)\n",
        "            doBench('exacto', 'result-small', variables, s, minTime=0, checkpointOffset=counter, quiet=2)\n",
        "            doBench('greedy', 'result-small-closest', variables, s + '-t closest', minTime=0, checkpointOffset=counter, quiet=2)\n",
        "            doBench('greedy', 'result-small-furthest', variables, s + '-t furthest', minTime=0, checkpointOffset=counter, quiet=2)\n",
        "            doBench('local', 'result-small-2opt', variables, s + '-t dos_opt', minTime=0, checkpointOffset=counter, quiet=2)\n",
        "            doBench('local', 'result-small-swap', variables, s + '-t swap', minTime=0, checkpointOffset=counter, quiet=2)\n",
        "            doBench('grasp', 'result-small', variables, s, minTime=0, checkpointOffset=counter, quiet=2)\n",
        "            \n",
        "print(\"Done!\")"
      ]
    },
    {
      "cell_type": "markdown",
      "metadata": {},
      "source": [
        "#### Comparando con el greedy"
      ]
    },
    {
      "cell_type": "code",
      "metadata": {
        "collapsed": false
      },
      "outputs": [],
      "source": [
        "seed = 1234\n",
        "counter = -1\n",
        "skip = getCheckpoint(BENCH_DIR + 'greedy-result-big-closest')\n",
        "\n",
        "for gyms in range(10,30):\n",
        "    for stops in range(10, 40-gyms):\n",
        "        for mochila in (3, stops/2, stops, stops*2, stops*3):\n",
        "            counter += 1\n",
        "            seed = gyms * 5 + stops * 3 + mochila * 2\n",
        "            if counter < skip:\n",
        "                continue\n",
        "            \n",
        "            variables = \"{} {} {}\".format(gyms, stops, mochila)\n",
        "            s = \"-s {} {} \".format(seed,seed)\n",
        "            doBench('greedy', 'result-big-closest', variables, s + '-t closest', minTime=0, checkpointOffset=counter, quiet=2)\n",
        "            doBench('greedy', 'result-big-furthest', variables, s + '-t furthest', minTime=0, checkpointOffset=counter, quiet=2)\n",
        "            doBench('local', 'result-big-2opt', variables, s + '-t dos_opt', minTime=0, checkpointOffset=counter, quiet=2)\n",
        "            doBench('local', 'result-big-swap', variables, s + '-t swap', minTime=0, checkpointOffset=counter, quiet=2)\n",
        "            doBench('grasp', 'result-big', variables, s, minTime=0, checkpointOffset=counter, quiet=2)\n",
        "            \n",
        "print(\"Done!\")"
      ]
    }
  ],
  "metadata": {
    "git": {
      "suppress_outputs": true
    },
    "kernelspec": {
      "display_name": "Python 3",
      "language": "python",
      "name": "python3"
    },
    "language_info": {
      "codemirror_mode": {
        "name": "ipython",
        "version": 3
      },
      "file_extension": ".py",
      "mimetype": "text/x-python",
      "name": "python",
      "nbconvert_exporter": "python",
      "pygments_lexer": "ipython3",
      "version": "3.5.2"
    }
  },
  "nbformat": 4,
  "nbformat_minor": 1
}