{
 "cells": [
  {
   "cell_type": "code",
   "execution_count": null,
   "metadata": {
    "collapsed": true
   },
   "outputs": [],
   "source": [
    "## Creamos la funciones auxiliares"
   ]
  },
  {
   "cell_type": "code",
   "execution_count": null,
   "metadata": {
    "collapsed": true
   },
   "outputs": [],
   "source": [
    "import os.path\n",
    "import subprocess"
   ]
  },
  {
   "cell_type": "code",
   "execution_count": null,
   "metadata": {
    "collapsed": true
   },
   "outputs": [],
   "source": [
    "BIN_DIR = '../../build/'\n",
    "BENCH_DIR = '../../bench/'\n",
    "\n",
    "DEFAULT_BENCH_TIME = 0.1"
   ]
  },
  {
   "cell_type": "markdown",
   "metadata": {},
   "source": [
    "`getCheckpoint()` nos indica cuantas mediciones ya hicimos, y tenemeos que saltear"
   ]
  },
  {
   "cell_type": "code",
   "execution_count": null,
   "metadata": {
    "collapsed": true
   },
   "outputs": [],
   "source": [
    "def getCheckpoint(file):\n",
    "    if not os.path.isfile(file):\n",
    "        return 0\n",
    "    with open(file) as f:\n",
    "        lines = sum(1 for line in f)\n",
    "    return lines"
   ]
  },
  {
   "cell_type": "markdown",
   "metadata": {},
   "source": [
    "`execute` es un wrapper sobre `subprocess` para que se printee stdout mientras se va ejecutando"
   ]
  },
  {
   "cell_type": "code",
   "execution_count": null,
   "metadata": {
    "collapsed": true
   },
   "outputs": [],
   "source": [
    "def execute(args):\n",
    "    popen = subprocess.Popen(args, stdout=subprocess.PIPE, stderr=subprocess.STDOUT, universal_newlines=True)\n",
    "    stdout_lines = iter(popen.stdout.readline, \"\")\n",
    "    for stdout_line in stdout_lines:\n",
    "        yield stdout_line\n",
    "        \n",
    "    popen.stdout.close()\n",
    "    return_code = popen.wait()\n",
    "    if return_code != 0:\n",
    "        raise subprocess.CalledProcessError(return_code, args)"
   ]
  },
  {
   "cell_type": "markdown",
   "metadata": {},
   "source": [
    "`doBench()` corre los benchmarks necesarios, sin repetir los que ya se hicieron"
   ]
  },
  {
   "cell_type": "code",
   "execution_count": null,
   "metadata": {
    "collapsed": true
   },
   "outputs": [],
   "source": [
    "def doBench(algoritmo, out, variables, extraArgs='', minTime=None, reps=4, casos=1, quiet=False, checkpointOffset=0):\n",
    "    executable = BIN_DIR + algoritmo\n",
    "    output = BENCH_DIR + algoritmo + '-' + out\n",
    "    minTime = minTime if minTime is not None else DEFAULT_BENCH_TIME\n",
    "    \n",
    "    checkpoint = max(0, getCheckpoint(output) - checkpointOffset)\n",
    "    if checkpoint > 0 and quiet < 2:\n",
    "        print(\"Salteando\", checkpoint, \"combinaciones\")\n",
    "    \n",
    "    args = executable\n",
    "    args += \" -o \" + output\n",
    "    args += \" -a \" + variables + \" \" + str(reps) + \" \" + str(casos)\n",
    "    args += \" -c \" + str(checkpoint)\n",
    "    args += \" \" + extraArgs\n",
    "    if minTime > 0:\n",
    "        args += \" -A \" + str(minTime)\n",
    "\n",
    "    args = args.split()\n",
    "    for line in execute(args):\n",
    "        if quiet:\n",
    "            print('.', end='')\n",
    "        else:\n",
    "            print(line, end='')\n",
    "    \n",
    "    if quiet < 2:\n",
    "        print('Done!')"
   ]
  },
  {
   "cell_type": "markdown",
   "metadata": {},
   "source": [
    "## Benchmarks de tiempos para cada algoritmo\n",
    "\n",
    "### En funcion de la cantidad de nodos, mochila de tamaño $\\infty$"
   ]
  },
  {
   "cell_type": "markdown",
   "metadata": {},
   "source": [
    "#### Exacto bruteforce (todas las permutaciones)"
   ]
  },
  {
   "cell_type": "code",
   "execution_count": null,
   "metadata": {
    "collapsed": false
   },
   "outputs": [],
   "source": [
    "doBench('exacto', 'time-bruteforce', '2:5 2:5 1000', '-p none', casos=5, quiet=True)"
   ]
  },
  {
   "cell_type": "code",
   "execution_count": null,
   "metadata": {
    "collapsed": false
   },
   "outputs": [],
   "source": [
    "doBench('exacto', 'timemoch-bruteforce', '5 5 4:20', '-p none', casos=5, quiet=True)"
   ]
  },
  {
   "cell_type": "markdown",
   "metadata": {},
   "source": [
    "#### Exacto bruteforce (podado)"
   ]
  },
  {
   "cell_type": "code",
   "execution_count": null,
   "metadata": {
    "collapsed": false
   },
   "outputs": [],
   "source": [
    "doBench('exacto', 'time-backtracking', '2:5 2:5 1000', '-p backtracking', casos=5, quiet=True)"
   ]
  },
  {
   "cell_type": "code",
   "execution_count": null,
   "metadata": {
    "collapsed": false
   },
   "outputs": [],
   "source": [
    "doBench('exacto', 'timemoch-backtracking', '5 5 4:20', '-p backtracking', casos=5, quiet=True)"
   ]
  },
  {
   "cell_type": "markdown",
   "metadata": {},
   "source": [
    "#### Greedy (closest first)"
   ]
  },
  {
   "cell_type": "code",
   "execution_count": null,
   "metadata": {
    "collapsed": false,
    "scrolled": true
   },
   "outputs": [],
   "source": [
    "doBench('greedy', 'time-closest', '2:5 2:5 1000',quiet=True)\n",
    "doBench('greedy', 'time-closest-extended',\n",
    "        '1000:10000:1000 1000:10000:1000 100000000', quiet=True)"
   ]
  },
  {
   "cell_type": "code",
   "execution_count": null,
   "metadata": {
    "collapsed": false
   },
   "outputs": [],
   "source": [
    "doBench('greedy', 'timemoch-closest', '2500 2500 100:7500:200', casos=1, quiet=True)"
   ]
  },
  {
   "cell_type": "markdown",
   "metadata": {},
   "source": [
    "#### Greedy (furthest first)"
   ]
  },
  {
   "cell_type": "code",
   "execution_count": null,
   "metadata": {
    "collapsed": false,
    "scrolled": true
   },
   "outputs": [],
   "source": [
    "doBench('greedy', 'time-furthest', '2:5 2:5 1000', '-t furthest', quiet=True)\n",
    "doBench('greedy', 'time-furthest-extended',\n",
    "        '1000:10000:1000 1000:10000:1000 100000000',\n",
    "        '-t furthest', quiet=True)"
   ]
  },
  {
   "cell_type": "code",
   "execution_count": null,
   "metadata": {
    "collapsed": false
   },
   "outputs": [],
   "source": [
    "doBench('greedy', 'timemoch-furthest', '2500 2500 100:7500:200', '-t furthest', casos=1, quiet=True)"
   ]
  },
  {
   "cell_type": "code",
   "execution_count": null,
   "metadata": {
    "collapsed": false
   },
   "outputs": [],
   "source": [
    "doBench('exacto', 'timemoch-bruteforce', '5 5 4:20', '-p none', casos=5, quiet=True)"
   ]
  },
  {
   "cell_type": "markdown",
   "metadata": {},
   "source": [
    "#### Local (2 opt)"
   ]
  },
  {
   "cell_type": "code",
   "execution_count": null,
   "metadata": {
    "collapsed": false,
    "scrolled": true
   },
   "outputs": [],
   "source": [
    "doBench('local', 'time-2opt', '2:5 2:5 1000', '-t dos_opt', quiet=True)\n",
    "doBench('local', 'time-2opt-extended', '10:100:10 10:100:10 100000', '-t dos_opt', quiet=True)"
   ]
  },
  {
   "cell_type": "code",
   "execution_count": null,
   "metadata": {
    "collapsed": false
   },
   "outputs": [],
   "source": [
    "doBench('local', 'timemoch-2opt', '50 50 10:150', '-t dos_opt', casos=1, quiet=True)"
   ]
  },
  {
   "cell_type": "markdown",
   "metadata": {},
   "source": [
    "#### Local (swap)"
   ]
  },
  {
   "cell_type": "code",
   "execution_count": null,
   "metadata": {
    "collapsed": false,
    "scrolled": true
   },
   "outputs": [],
   "source": [
    "doBench('local', 'time-swap', '2:5 2:5 1000', '-t swap', quiet=True)\n",
    "doBench('local', 'time-swap-extended', '10:100:10 10:100:10 100000', '-t swap', quiet=True)"
   ]
  },
  {
   "cell_type": "code",
   "execution_count": null,
   "metadata": {
    "collapsed": false
   },
   "outputs": [],
   "source": [
    "doBench('local', 'timemoch-swap', '50 50 10:150', '-t swap', casos=1, quiet=True)"
   ]
  },
  {
   "cell_type": "markdown",
   "metadata": {},
   "source": [
    "#### Local (swap_min)"
   ]
  },
  {
   "cell_type": "code",
   "execution_count": null,
   "metadata": {
    "collapsed": false,
    "scrolled": true
   },
   "outputs": [],
   "source": [
    "doBench('local', 'time-swap_min', '2:5 2:5 1000', '-t swap_min', quiet=True)\n",
    "doBench('local', 'time-swap_min-extended', '10:100:10 10:100:10 100000', '-t swap_min', quiet=True)"
   ]
  },
  {
   "cell_type": "markdown",
   "metadata": {},
   "source": [
    "#### Grasp"
   ]
  },
  {
   "cell_type": "code",
   "execution_count": null,
   "metadata": {
    "collapsed": false,
    "scrolled": true
   },
   "outputs": [],
   "source": [
    "doBench('grasp', 'time-grasp', '2:5 2:5 1000', quiet=True)\n",
    "doBench('grasp', 'time-grasp-extended', '10:50:5 10:50:5 100000', quiet=True)"
   ]
  },
  {
   "cell_type": "code",
   "execution_count": null,
   "metadata": {
    "collapsed": false
   },
   "outputs": [],
   "source": [
    "doBench('grasp', 'timemoch-11', '20 20 10:60', casos=2, quiet=True)"
   ]
  },
  {
   "cell_type": "markdown",
   "metadata": {},
   "source": [
    "## Benchmarks de precisión de las heurísticas"
   ]
  },
  {
   "cell_type": "markdown",
   "metadata": {},
   "source": [
    "#### Comparando con el exacto"
   ]
  },
  {
   "cell_type": "code",
   "execution_count": null,
   "metadata": {
    "collapsed": false,
    "scrolled": true
   },
   "outputs": [],
   "source": [
    "for gen in ['random', 'separated', 'zigzag']:\n",
    "    print(gen+\"Generator\")\n",
    "    \n",
    "    counter = -1\n",
    "    skip = getCheckpoint(BENCH_DIR + 'exacto-result-small-' + gen)\n",
    "\n",
    "    for gyms in range(1,12):\n",
    "        for stops in range(1, 13-gyms):\n",
    "            for mochila in (3, stops, stops*2, stops*3):\n",
    "                counter += 1\n",
    "                seed = gyms * 5 + stops * 3 + mochila * 2\n",
    "                if counter < skip:\n",
    "                    continue\n",
    "\n",
    "                variables = \"{} {} {}\".format(gyms, stops, mochila)\n",
    "                f = \" -s {} {} -G {} \".format(seed,seed,gen)\n",
    "                doBench('exacto', 'result-small-'+gen,\n",
    "                        variables, f, minTime=0, checkpointOffset=counter, quiet=2)\n",
    "                doBench('greedy', 'result-small-'+gen+'-closest',\n",
    "                        variables, f + '-t closest', minTime=0, checkpointOffset=counter, quiet=2)\n",
    "                doBench('greedy', 'result-small-'+gen+'-furthest',\n",
    "                        variables, f + '-t furthest', minTime=0, checkpointOffset=counter, quiet=2)\n",
    "                doBench('local', 'result-small-'+gen+'-2opt',\n",
    "                        variables, f + '-t dos_opt', minTime=0, checkpointOffset=counter, quiet=2)\n",
    "                doBench('local', 'result-small-'+gen+'-swap',\n",
    "                        variables, f + '-t swap', minTime=0, checkpointOffset=counter, quiet=2)\n",
    "                doBench('grasp', 'result-small-'+gen,\n",
    "                        variables, f, minTime=0, checkpointOffset=counter, quiet=2)\n",
    "\n",
    "print(\"Done!\")"
   ]
  },
  {
   "cell_type": "markdown",
   "metadata": {},
   "source": [
    "#### Comparando con el greedy"
   ]
  },
  {
   "cell_type": "code",
   "execution_count": null,
   "metadata": {
    "collapsed": false
   },
   "outputs": [],
   "source": [
    "for gen in ['random', 'separated', 'zigzag']:\n",
    "    print(gen+\"Generator\")\n",
    "    \n",
    "    counter = -1\n",
    "    skip = getCheckpoint(BENCH_DIR + 'greedy-result-big-'+gen+'-closest')\n",
    "\n",
    "    for gyms in range(10,30):\n",
    "        for stops in range(10, 40-gyms):\n",
    "            for mochila in (3, stops/2, stops, stops*2, stops*3):\n",
    "                counter += 1\n",
    "                seed = gyms * 5 + stops * 3 + mochila * 2\n",
    "                if counter < skip:\n",
    "                    continue\n",
    "\n",
    "                variables = \"{} {} {}\".format(gyms, stops, mochila)\n",
    "                f = \" -s {} {} -G {} \".format(seed,seed,gen)\n",
    "                doBench('greedy', 'result-big-'+gen+'-closest',\n",
    "                        variables, f + '-t closest', minTime=0, checkpointOffset=counter, quiet=2)\n",
    "                doBench('greedy', 'result-big-'+gen+'-furthest',\n",
    "                        variables, f + '-t furthest', minTime=0, checkpointOffset=counter, quiet=2)\n",
    "                doBench('local', 'result-big-'+gen+'-2opt',\n",
    "                        variables, f + '-t dos_opt', minTime=0, checkpointOffset=counter, quiet=2)\n",
    "                doBench('local', 'result-big-'+gen+'-swap',\n",
    "                        variables, f + '-t swap', minTime=0, checkpointOffset=counter, quiet=2)\n",
    "                doBench('grasp', 'result-big-'+gen,\n",
    "                        variables, f, minTime=0, checkpointOffset=counter, quiet=2)\n",
    "            \n",
    "print(\"Done!\")"
   ]
  },
  {
   "cell_type": "markdown",
   "metadata": {},
   "source": [
    "## Benchmarks para las variables de GRASP"
   ]
  },
  {
   "cell_type": "markdown",
   "metadata": {},
   "source": [
    "### Tiempo"
   ]
  },
  {
   "cell_type": "code",
   "execution_count": null,
   "metadata": {
    "collapsed": false,
    "scrolled": true
   },
   "outputs": [],
   "source": [
    "skip = getCheckpoint(BENCH_DIR + 'grasp-variables')\n",
    "seeds = [123,789,654]\n",
    "counter = -len(seeds)\n",
    "\n",
    "for i in range(1,20):\n",
    "    inicios = i/10\n",
    "    for l in range(1,20):\n",
    "        limite = l/10\n",
    "        \n",
    "        counter += len(seeds)\n",
    "        if counter < skip:\n",
    "            continue\n",
    "\n",
    "        c = len(seeds)\n",
    "        for seed in seeds:\n",
    "            c -= 1\n",
    "            f = ' -L {} -I {} -s {} {} '.format(limite,inicios,seed,seed)\n",
    "            doBench('grasp', 'variables', '25 25 100000', f,\n",
    "                    checkpointOffset=counter-c, quiet=2)\n",
    "\n",
    "print(\"Done!\")"
   ]
  }
 ],
 "metadata": {
  "anaconda-cloud": {},
  "git": {
   "suppress_outputs": true
  },
  "kernelspec": {
   "display_name": "Python [default]",
   "language": "python",
   "name": "python3"
  },
  "language_info": {
   "codemirror_mode": {
    "name": "ipython",
    "version": 3
   },
   "file_extension": ".py",
   "mimetype": "text/x-python",
   "name": "python",
   "nbconvert_exporter": "python",
   "pygments_lexer": "ipython3",
   "version": "3.5.2"
  }
 },
 "nbformat": 4,
 "nbformat_minor": 1
}
